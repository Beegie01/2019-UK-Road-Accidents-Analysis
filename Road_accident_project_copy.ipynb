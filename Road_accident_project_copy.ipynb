{
 "cells": [
  {
   "cell_type": "code",
   "execution_count": null,
   "id": "eaf5a3c0",
   "metadata": {},
   "outputs": [],
   "source": [
    "from seaborn.utils import np, os, plt, pd\n",
    "import seaborn as sns\n",
    "import copy\n",
    "from sklearn import feature_selection as s_fs, preprocessing as s_prep, model_selection as s_ms, metrics as s_mtr\n",
    "# from mlxtend import frequent_patterns as mfp"
   ]
  },
  {
   "cell_type": "code",
   "execution_count": null,
   "id": "c1928987",
   "metadata": {},
   "outputs": [],
   "source": [
    "pd.set_option('display.precision', 3,\n",
    "             'display.max_columns', None)"
   ]
  },
  {
   "cell_type": "code",
   "execution_count": null,
   "id": "f6a5116d",
   "metadata": {},
   "outputs": [],
   "source": [
    "from project_methods import RoadAccidents as proj"
   ]
  },
  {
   "cell_type": "code",
   "execution_count": null,
   "id": "b46fdada",
   "metadata": {},
   "outputs": [],
   "source": [
    "sns.set_style('whitegrid')"
   ]
  },
  {
   "cell_type": "markdown",
   "id": "743ae93b",
   "metadata": {},
   "source": [
    "#### Read in datasets"
   ]
  },
  {
   "cell_type": "code",
   "execution_count": null,
   "id": "f2339671",
   "metadata": {},
   "outputs": [],
   "source": [
    "file_path = \"Road Safety Data - Accidents 2019.csv\"\n",
    "accidents = copy.deepcopy(pd.read_csv(file_path, low_memory=False))"
   ]
  },
  {
   "cell_type": "code",
   "execution_count": null,
   "id": "f63f1a8f",
   "metadata": {},
   "outputs": [],
   "source": [
    "file_path = \"Road Safety Data- Vehicles 2019.csv\"\n",
    "vehicles = copy.deepcopy(pd.read_csv(file_path, low_memory=False))"
   ]
  },
  {
   "cell_type": "code",
   "execution_count": null,
   "id": "a6d10f3e",
   "metadata": {},
   "outputs": [],
   "source": [
    "file_path = \"Road Safety Data - Casualties 2019.csv\"\n",
    "casualties = copy.deepcopy(pd.read_csv(file_path, low_memory=False))"
   ]
  },
  {
   "cell_type": "code",
   "execution_count": null,
   "id": "28318f61",
   "metadata": {},
   "outputs": [],
   "source": [
    "# variable look_np spreadsheet\n",
    "file_path = 'variable lookup.xls'\n",
    "var_look = pd.read_excel(file_path, sheet_name=None)"
   ]
  },
  {
   "cell_type": "code",
   "execution_count": null,
   "id": "d99d9840",
   "metadata": {},
   "outputs": [],
   "source": [
    "# cas_adjustment look up csv\n",
    "file_path = 'cas_adjustment_lookup_2019.csv'\n",
    "cas_adj_lookup = pd.read_csv(file_path)"
   ]
  },
  {
   "cell_type": "code",
   "execution_count": null,
   "id": "b15f9604",
   "metadata": {
    "scrolled": true
   },
   "outputs": [],
   "source": [
    "# accidents.info()"
   ]
  },
  {
   "cell_type": "code",
   "execution_count": null,
   "id": "1f682054",
   "metadata": {
    "scrolled": true
   },
   "outputs": [],
   "source": [
    "# vehicles.info()"
   ]
  },
  {
   "cell_type": "code",
   "execution_count": null,
   "id": "c9739f93",
   "metadata": {},
   "outputs": [],
   "source": [
    "# casualties.info()"
   ]
  },
  {
   "cell_type": "code",
   "execution_count": null,
   "id": "8d856370",
   "metadata": {},
   "outputs": [],
   "source": [
    "# cas_adj_lookup.info()"
   ]
  },
  {
   "cell_type": "markdown",
   "id": "cf98c1e2",
   "metadata": {},
   "source": [
    "#### First look at each datasets"
   ]
  },
  {
   "cell_type": "code",
   "execution_count": null,
   "id": "0c3674e1",
   "metadata": {},
   "outputs": [],
   "source": [
    "# accidents.head()"
   ]
  },
  {
   "cell_type": "code",
   "execution_count": null,
   "id": "7b54eb2d",
   "metadata": {},
   "outputs": [],
   "source": [
    "# vehicles.head()"
   ]
  },
  {
   "cell_type": "code",
   "execution_count": null,
   "id": "1ef6439c",
   "metadata": {},
   "outputs": [],
   "source": [
    "# casualties.head()"
   ]
  },
  {
   "cell_type": "code",
   "execution_count": null,
   "id": "de8bbd7a",
   "metadata": {},
   "outputs": [],
   "source": [
    "# cas_adj_lookup.head()"
   ]
  },
  {
   "cell_type": "code",
   "execution_count": null,
   "id": "93c2ea2f",
   "metadata": {},
   "outputs": [],
   "source": [
    "# var_look.keys() # sheet names for feature description"
   ]
  },
  {
   "cell_type": "markdown",
   "id": "cf0f76e0",
   "metadata": {},
   "source": [
    "#### Convert dataframe columns to lowercase"
   ]
  },
  {
   "cell_type": "code",
   "execution_count": null,
   "id": "b71c8bbb",
   "metadata": {},
   "outputs": [],
   "source": [
    "accidents.columns = proj.cleanup_cols(accidents)\n",
    "# accidents.columns"
   ]
  },
  {
   "cell_type": "code",
   "execution_count": null,
   "id": "21795118",
   "metadata": {},
   "outputs": [],
   "source": [
    "vehicles.columns = proj.cleanup_cols(vehicles)\n",
    "# vehicles.columns"
   ]
  },
  {
   "cell_type": "code",
   "execution_count": null,
   "id": "ca8fb98b",
   "metadata": {},
   "outputs": [],
   "source": [
    "casualties.columns = proj.cleanup_cols(casualties)\n",
    "# casualties.columns"
   ]
  },
  {
   "cell_type": "code",
   "execution_count": null,
   "id": "4a56cbc3",
   "metadata": {},
   "outputs": [],
   "source": [
    "cas_adj_lookup.columns = proj.cleanup_cols(cas_adj_lookup)\n",
    "# cas_adj_lookup.columns"
   ]
  },
  {
   "cell_type": "markdown",
   "id": "2985cef0",
   "metadata": {},
   "source": [
    "## MERGE ACCIDENTS, VEHICLES, CASUALTIES DATASETS"
   ]
  },
  {
   "cell_type": "code",
   "execution_count": null,
   "id": "ca6e67f3",
   "metadata": {
    "scrolled": true
   },
   "outputs": [],
   "source": [
    "acc_veh = pd.merge(left=accidents, right=vehicles, how='inner', on='accident_index')\n",
    "# acc_veh.info()"
   ]
  },
  {
   "cell_type": "code",
   "execution_count": null,
   "id": "c3c3fceb",
   "metadata": {
    "scrolled": true
   },
   "outputs": [],
   "source": [
    "acc_veh_cas = pd.merge(left=acc_veh, right=casualties, how='inner', on='accident_index')\n",
    "# acc_veh_cas.info()"
   ]
  },
  {
   "cell_type": "markdown",
   "id": "5163dfee",
   "metadata": {},
   "source": [
    "## DATA CLEANING"
   ]
  },
  {
   "cell_type": "markdown",
   "id": "3eb054e7",
   "metadata": {},
   "source": [
    "#### Missing Data Analysis\n",
    "Inorder to efficiently work with missing data, I shall return the null placeholder, -1, back to NaN"
   ]
  },
  {
   "cell_type": "code",
   "execution_count": null,
   "id": "7c39e4a1",
   "metadata": {
    "scrolled": true
   },
   "outputs": [],
   "source": [
    "nan_acc = proj.placeholder_to_nan(acc_veh_cas)\n",
    "# nan_acc.info()"
   ]
  },
  {
   "cell_type": "code",
   "execution_count": null,
   "id": "43133955",
   "metadata": {},
   "outputs": [],
   "source": [
    "len(proj.null_checker(nan_acc, only_nulls=True))"
   ]
  },
  {
   "cell_type": "code",
   "execution_count": null,
   "id": "99730c3e",
   "metadata": {
    "scrolled": true
   },
   "outputs": [],
   "source": [
    "proj.visualize_nulls(nan_acc, plot_title='Number of Mising Values per Column in the Original Datasets: Accident, Casualties & Vehicles',\n",
    "                     fig_size=(10, 12), annot_size=9, top_labe_gap=8699, include_perc=True, use_bar=True, savefig=True)\n"
   ]
  },
  {
   "cell_type": "markdown",
   "id": "24e363a9",
   "metadata": {},
   "source": [
    "**DROPPING NULL ENTRIES IN COLUMNS WHERE NULLS <= 2.5% OF TOTAL NUMBER OF ENTRIES:** <br>\n",
    "I do not expect these dropped entries to significantly affect the information in the dataset."
   ]
  },
  {
   "cell_type": "code",
   "execution_count": null,
   "id": "9ac14f0b",
   "metadata": {
    "scrolled": true
   },
   "outputs": [],
   "source": [
    "null_freq = proj.null_checker(nan_acc, in_perc=True, only_nulls=True).sort_values()\n",
    "drop_cols = null_freq.loc[null_freq <= 2.5].index\n",
    "# print(list(drop_cols))"
   ]
  },
  {
   "cell_type": "markdown",
   "id": "58e23b2d",
   "metadata": {},
   "source": [
    "Features with null values less than or equal to 2.5% include:<br>\n",
    "('pedestrian_location', 'sex_of_driver', 'light_conditions', 'casualty_type', 'journey_purpose_of_driver', 'pedestrian_road_maintenance_worker', 'latitude', 'longitude', 'location_northing_osgr', 'location_easting_osgr', 'speed_limit', 'bus_or_coach_passenger', 'time', '2nd_road_number', 'vehicle_type', 'car_passenger', 'sex_of_casualty', 'road_surface_conditions', 'junction_detail', 'carriageway_hazards', 'special_conditions_at_site', 'towing_and_articulation', 'age_of_casualty', 'age_band_of_casualty', 'pedestrian_crossing-physical_facilities', 'pedestrian_crossing-human_control') contain an insignificant number of missing values (ie <2.5%).\n",
    "<br>"
   ]
  },
  {
   "cell_type": "code",
   "execution_count": null,
   "id": "b4e51a55",
   "metadata": {},
   "outputs": [],
   "source": [
    "# DROPPING NULL ENTRIES\n",
    "nan_acc = nan_acc.dropna(subset=drop_cols)"
   ]
  },
  {
   "cell_type": "code",
   "execution_count": null,
   "id": "5acc1047",
   "metadata": {
    "scrolled": true
   },
   "outputs": [],
   "source": [
    "proj.visualize_nulls(nan_acc, include_perc=False, plot_title='Columns with Missing Values > 2.5% of Dataset Rows', \n",
    "                     fig_size=(10, 5), annot_size=9, fig_filename='impute_nulls.png', savefig=True)"
   ]
  },
  {
   "cell_type": "markdown",
   "id": "0212dba6",
   "metadata": {},
   "source": [
    "#### IMPUTATION BEGINS!!"
   ]
  },
  {
   "cell_type": "code",
   "execution_count": null,
   "id": "35f5259f",
   "metadata": {},
   "outputs": [],
   "source": [
    "proj.null_checker(nan_acc, only_nulls=True).shape"
   ]
  },
  {
   "cell_type": "code",
   "execution_count": null,
   "id": "68910ee8",
   "metadata": {
    "scrolled": true
   },
   "outputs": [],
   "source": [
    "clean_acc = proj.systematically_impute_all_nans(nan_acc)"
   ]
  },
  {
   "cell_type": "code",
   "execution_count": null,
   "id": "34cd0872",
   "metadata": {},
   "outputs": [],
   "source": [
    "proj.null_checker(clean_acc, only_nulls=True)"
   ]
  },
  {
   "cell_type": "markdown",
   "id": "3ca24cc9",
   "metadata": {},
   "source": [
    "#### IMPUTATION COMPLETE!!!"
   ]
  },
  {
   "cell_type": "code",
   "execution_count": null,
   "id": "73849afe",
   "metadata": {
    "scrolled": true
   },
   "outputs": [],
   "source": [
    "accidents = clean_acc\n",
    "# accidents.info()"
   ]
  },
  {
   "cell_type": "markdown",
   "id": "e8c729fa",
   "metadata": {},
   "source": [
    "#### Data Type Checks"
   ]
  },
  {
   "cell_type": "code",
   "execution_count": null,
   "id": "060fca0f",
   "metadata": {},
   "outputs": [],
   "source": [
    "num_cols = proj.get_features_with_dtypes(accidents, feat_datatype='number')\n",
    "str_cols = proj.get_features_with_dtypes(accidents, feat_datatype='str')\n",
    "acc_num_cols = accidents[num_cols]\n",
    "acc_str_cols = accidents[str_cols]"
   ]
  },
  {
   "cell_type": "code",
   "execution_count": null,
   "id": "5b5fdba0",
   "metadata": {
    "scrolled": true
   },
   "outputs": [],
   "source": [
    "# acc_num_cols.dtypes"
   ]
  },
  {
   "cell_type": "code",
   "execution_count": null,
   "id": "925675b6",
   "metadata": {
    "scrolled": true
   },
   "outputs": [],
   "source": [
    "# acc_str_cols.dtypes"
   ]
  },
  {
   "cell_type": "code",
   "execution_count": null,
   "id": "0f77a6df",
   "metadata": {
    "scrolled": true
   },
   "outputs": [],
   "source": [
    "# acc_num_cols.head()"
   ]
  },
  {
   "cell_type": "code",
   "execution_count": null,
   "id": "d9331585",
   "metadata": {
    "scrolled": true
   },
   "outputs": [],
   "source": [
    "# acc_str_cols.head()"
   ]
  },
  {
   "cell_type": "code",
   "execution_count": null,
   "id": "cbf103ee",
   "metadata": {},
   "outputs": [],
   "source": [
    "# cast Date column to datetime data type\n",
    "accidents['date'] = accidents['date'].astype(np.datetime64)"
   ]
  },
  {
   "cell_type": "code",
   "execution_count": null,
   "id": "ca1e9afe",
   "metadata": {
    "scrolled": true
   },
   "outputs": [],
   "source": [
    "# accidents.info()"
   ]
  },
  {
   "cell_type": "code",
   "execution_count": null,
   "id": "39fb5fb1",
   "metadata": {},
   "outputs": [],
   "source": [
    "fname = 'w:\\\\MSc-AIDS-UoH\\\\Trimester_2\\\\UoH_Big_Data_and_Data_Mining\\\\Project\\\\Report\\\\RoadAccidentsOutput\\\\clean_accidents.csv'\n",
    "accidents.to_csv(fname, index=False)"
   ]
  },
  {
   "cell_type": "code",
   "execution_count": null,
   "id": "64efe9b5",
   "metadata": {
    "scrolled": true
   },
   "outputs": [],
   "source": [
    "# accidents.info()"
   ]
  },
  {
   "cell_type": "markdown",
   "id": "c17cadf3",
   "metadata": {},
   "source": [
    "#### Data Cleaning Complete"
   ]
  },
  {
   "cell_type": "markdown",
   "id": "96753d99",
   "metadata": {},
   "source": [
    "## Feature Engineering"
   ]
  },
  {
   "cell_type": "code",
   "execution_count": null,
   "id": "c576b035",
   "metadata": {},
   "outputs": [],
   "source": [
    "fname = 'w:\\\\MSc-AIDS-UoH\\\\Trimester_2\\\\UoH_Big_Data_and_Data_Mining\\\\Project\\\\Report\\\\RoadAccidentsOutput\\\\clean_accidents.csv'\n",
    "accidents = pd.read_csv(fname, low_memory=False)\n",
    "# accidents.head()"
   ]
  },
  {
   "cell_type": "code",
   "execution_count": null,
   "id": "6ead024d",
   "metadata": {
    "scrolled": true
   },
   "outputs": [],
   "source": [
    "# accidents.info()"
   ]
  },
  {
   "cell_type": "code",
   "execution_count": null,
   "id": "c73d5e35",
   "metadata": {
    "scrolled": true
   },
   "outputs": [],
   "source": [
    "accidents = proj.engineer_useful_features(accidents)\n",
    "\n",
    "# accidents.info()"
   ]
  },
  {
   "cell_type": "code",
   "execution_count": null,
   "id": "0725e105",
   "metadata": {},
   "outputs": [],
   "source": [
    "fname = 'w:\\\\MSc-AIDS-UoH\\\\Trimester_2\\\\UoH_Big_Data_and_Data_Mining\\\\Project\\\\Report\\\\RoadAccidentsOutput\\\\accidents_ext.csv'\n",
    "accidents.to_csv(fname, index=False)"
   ]
  },
  {
   "cell_type": "markdown",
   "id": "fbf019a3",
   "metadata": {},
   "source": [
    "## DESCRIPTIVE STATISTICS"
   ]
  },
  {
   "cell_type": "code",
   "execution_count": null,
   "id": "62a2da25",
   "metadata": {},
   "outputs": [],
   "source": [
    "fname = 'w:\\\\MSc-AIDS-UoH\\\\Trimester_2\\\\UoH_Big_Data_and_Data_Mining\\\\Project\\\\Report\\\\RoadAccidentsOutput\\\\accidents_ext.csv'\n",
    "accidents = pd.read_csv(fname, low_memory=False)\n",
    "# accidents.head()"
   ]
  },
  {
   "cell_type": "code",
   "execution_count": null,
   "id": "ef5a6229",
   "metadata": {},
   "outputs": [],
   "source": [
    "num_cols = proj.get_features_with_dtypes(accidents, feat_datatype='number')\n",
    "str_cols = proj.get_features_with_dtypes(accidents, feat_datatype='str')\n",
    "acc_num_cols = accidents[num_cols]\n",
    "acc_str_cols = accidents[str_cols]"
   ]
  },
  {
   "cell_type": "code",
   "execution_count": null,
   "id": "6941b387",
   "metadata": {},
   "outputs": [],
   "source": [
    "# num = int(len(num_cols)/10 + 0.5)\n",
    "# print(num, len(num_cols))\n",
    "# print(list(range(0, (num+1)*10, 10)))\n",
    "# all_stats = acc_num_cols.describe(percentiles=[0.5],\n",
    "#                                   datetime_is_numeric=True).transpose()\n",
    "# all_stats.columns = all_stats.columns.astype(str).str.replace('50%', 'median')\n",
    "# for n in range(0, (num+1)*10, 10):\n",
    "#     end = n+10\n",
    "#     display(all_stats.iloc[n: end])"
   ]
  },
  {
   "cell_type": "code",
   "execution_count": null,
   "id": "69932351",
   "metadata": {},
   "outputs": [],
   "source": [
    "# acc_str_cols.describe().transpose()"
   ]
  },
  {
   "cell_type": "markdown",
   "id": "1cebd2ee",
   "metadata": {},
   "source": [
    "## DISTRIBUTION OF VARIABLES"
   ]
  },
  {
   "cell_type": "code",
   "execution_count": null,
   "id": "23fb0256",
   "metadata": {
    "scrolled": true
   },
   "outputs": [],
   "source": [
    "sns.set_style('darkgrid')\n",
    "proj.visualize_distributions(accidents, savefig=True)"
   ]
  },
  {
   "cell_type": "markdown",
   "id": "0ce57bf9",
   "metadata": {},
   "source": [
    "## CORRELATION ANALYSIS"
   ]
  },
  {
   "cell_type": "code",
   "execution_count": null,
   "id": "d69cefb3",
   "metadata": {
    "scrolled": true
   },
   "outputs": [],
   "source": [
    "fname = 'w:\\\\MSc-AIDS-UoH\\\\Trimester_2\\\\UoH_Big_Data_and_Data_Mining\\\\Project\\\\Report\\\\RoadAccidentsOutput\\\\accidents_ext.csv'\n",
    "accidents = pd.read_csv(fname, low_memory=False)\n",
    "# accidents.info()"
   ]
  },
  {
   "cell_type": "code",
   "execution_count": null,
   "id": "e48e1c2e",
   "metadata": {
    "scrolled": true
   },
   "outputs": [],
   "source": [
    "proj.correlation_analyser(accidents)"
   ]
  },
  {
   "cell_type": "markdown",
   "id": "d6528721",
   "metadata": {},
   "source": [
    "### TREND ANALYSIS"
   ]
  },
  {
   "cell_type": "markdown",
   "id": "56fb4903",
   "metadata": {},
   "source": [
    "#### General aggregated frequency table for daily accidents per hour"
   ]
  },
  {
   "cell_type": "code",
   "execution_count": null,
   "id": "a59537f4",
   "metadata": {
    "scrolled": true
   },
   "outputs": [],
   "source": [
    "general_agg = proj.generate_aggregated_lookup(accidents)\n",
    "# general_agg"
   ]
  },
  {
   "cell_type": "code",
   "execution_count": null,
   "id": "6edd4b94",
   "metadata": {
    "scrolled": true
   },
   "outputs": [],
   "source": [
    "proj.show_correlated_variables(accidents, var_look)"
   ]
  },
  {
   "cell_type": "code",
   "execution_count": null,
   "id": "1a407616",
   "metadata": {
    "scrolled": true
   },
   "outputs": [],
   "source": [
    "proj.visualize_trends(accidents, 'general')"
   ]
  },
  {
   "cell_type": "code",
   "execution_count": null,
   "id": "329c3cf6",
   "metadata": {
    "scrolled": true
   },
   "outputs": [],
   "source": [
    "proj.quarterly_observations(accidents, 'general')"
   ]
  },
  {
   "cell_type": "code",
   "execution_count": null,
   "id": "0cc2a583",
   "metadata": {
    "scrolled": true
   },
   "outputs": [],
   "source": [
    "proj.monthly_observations(accidents, 'general')"
   ]
  },
  {
   "cell_type": "code",
   "execution_count": null,
   "id": "4ca7c885",
   "metadata": {
    "scrolled": true
   },
   "outputs": [],
   "source": [
    "# top district per month\n",
    "cols = ['month', 'month_name', 'local_authority_district']\n",
    "districts = proj.assign_district(accidents)\n",
    "df = pd.concat([accidents[cols[:-1]], districts], axis=1)\n",
    "display(df)\n",
    "total = proj.rank_top_occurrences(df, top_n=3)\n",
    "# display(total)\n",
    "\n",
    "proj.plot_bar(y=total[cols[1]], x=total['total_count'], condition_on=total[cols[-1]],\n",
    "             figsize=(8, 15), paletter=None, annotate=True, savefig=True,\n",
    "             plot_title='Top 3 Districs per Monthly Accidents', fig_filename='top_district_mn.png')"
   ]
  },
  {
   "cell_type": "code",
   "execution_count": null,
   "id": "6e84f0a1",
   "metadata": {
    "scrolled": true
   },
   "outputs": [],
   "source": [
    "# top district per month\n",
    "cols = ['month', 'month_name', 'local_authority_highway']\n",
    "highways = proj.assign_highway(accidents)\n",
    "df = pd.concat([accidents[cols[:-1]], highways], axis=1)\n",
    "# display(df)\n",
    "total = proj.rank_top_occurrences(df, top_n=3)\n",
    "# display(total)\n",
    "\n",
    "proj.plot_bar(y=total[cols[1]], x=total['total_count'], condition_on=total[cols[-1]],\n",
    "             figsize=(8, 15), paletter=None, annotate=True, savefig=True, xlim=(0, 1000),\n",
    "             plot_title='Top 3 Highways per Monthly Accidents', fig_filename='top_highway_mn.png')"
   ]
  },
  {
   "cell_type": "code",
   "execution_count": null,
   "id": "b14a03bb",
   "metadata": {},
   "outputs": [],
   "source": [
    "proj.rank_top_occurrences(accidents[['is_dst', 'casualty_severity', 'light_conditions']], top_n=4)"
   ]
  },
  {
   "cell_type": "code",
   "execution_count": null,
   "id": "64eb78c2",
   "metadata": {
    "scrolled": true
   },
   "outputs": [],
   "source": [
    "proj.weekly_observations(accidents, 'general')"
   ]
  },
  {
   "cell_type": "code",
   "execution_count": null,
   "id": "523fe9f4",
   "metadata": {},
   "outputs": [],
   "source": [
    "proj.show_weekly(accidents, 19, 'is_weekend')"
   ]
  },
  {
   "cell_type": "code",
   "execution_count": null,
   "id": "49c7a684",
   "metadata": {},
   "outputs": [],
   "source": [
    "x = proj.generate_aggregated_lookup(proj.get_accidents_when(accidents, 'is_weekend', 1))[['week_num', 'total_count']]\n",
    "# display(x)\n",
    "# x.groupby('week_num').sum().sort_values('total_count', ascending=False)"
   ]
  },
  {
   "cell_type": "code",
   "execution_count": null,
   "id": "2dfd59b1",
   "metadata": {
    "scrolled": true
   },
   "outputs": [],
   "source": [
    "cols = ['day_num', 'total_count']\n",
    "proj.generate_aggregated_lookup(accidents)[cols].groupby(cols[0]).sum().sort_values(cols[-1], ascending=False)"
   ]
  },
  {
   "cell_type": "code",
   "execution_count": null,
   "id": "b0e2013a",
   "metadata": {
    "scrolled": true
   },
   "outputs": [],
   "source": [
    "proj.get_accidents_when(accidents, 'day_num', 359)[['month_name', 'day']]"
   ]
  },
  {
   "cell_type": "code",
   "execution_count": null,
   "id": "97543573",
   "metadata": {},
   "outputs": [],
   "source": [
    "proj.get_daynums_in_wknum(accidents, 32)"
   ]
  },
  {
   "cell_type": "code",
   "execution_count": null,
   "id": "331ed84c",
   "metadata": {},
   "outputs": [],
   "source": [
    "proj.get_daynums_in_wknum(accidents, 38)"
   ]
  },
  {
   "cell_type": "code",
   "execution_count": null,
   "id": "48821c05",
   "metadata": {},
   "outputs": [],
   "source": [
    "proj.get_daynums_in_wknum(accidents, 52)"
   ]
  },
  {
   "cell_type": "code",
   "execution_count": null,
   "id": "d3475c66",
   "metadata": {},
   "outputs": [],
   "source": [
    "proj.get_daynums_in_wknum(accidents, 38)"
   ]
  },
  {
   "cell_type": "code",
   "execution_count": null,
   "id": "dd9299ea",
   "metadata": {
    "scrolled": true
   },
   "outputs": [],
   "source": [
    "proj.daily_observations(accidents, 'general')"
   ]
  },
  {
   "cell_type": "code",
   "execution_count": null,
   "id": "730ac180",
   "metadata": {},
   "outputs": [],
   "source": [
    "cols = ['day_num', 'inactive_hour', 'total_count']\n",
    "total_inacv_day = general_agg[cols].groupby(cols[:-1]).sum().sort_index().reset_index()\n",
    "# total_inacv_day"
   ]
  },
  {
   "cell_type": "code",
   "execution_count": null,
   "id": "dc511d65",
   "metadata": {},
   "outputs": [],
   "source": [
    "proj.get_accidents_when(accidents, 'day_num', [102, 359])[['month_name', 'day', 'day_name']].value_counts()"
   ]
  },
  {
   "cell_type": "code",
   "execution_count": null,
   "id": "ef80bdde",
   "metadata": {
    "scrolled": true
   },
   "outputs": [],
   "source": [
    "proj.hourly_observations(accidents, 'general')"
   ]
  },
  {
   "cell_type": "code",
   "execution_count": null,
   "id": "a62d209c",
   "metadata": {
    "scrolled": true
   },
   "outputs": [],
   "source": [
    "proj.hourly_trend(accidents, 'general')"
   ]
  },
  {
   "cell_type": "code",
   "execution_count": null,
   "id": "70323652-1479-4cf2-8938-763dedae105c",
   "metadata": {
    "scrolled": true
   },
   "outputs": [],
   "source": [
    "proj.seasonal_observations(accidents, 'general')"
   ]
  },
  {
   "cell_type": "code",
   "execution_count": null,
   "id": "ff95205a",
   "metadata": {},
   "outputs": [],
   "source": [
    "proj.dst_observations(accidents, 'general')"
   ]
  },
  {
   "cell_type": "markdown",
   "id": "b70de839",
   "metadata": {},
   "source": [
    "### PREMIER LEAGUE INFLUENCE"
   ]
  },
  {
   "cell_type": "code",
   "execution_count": null,
   "id": "bf43a5fe",
   "metadata": {},
   "outputs": [],
   "source": [
    "onseason_wkend = proj.get_accidents_when(accidents, col1='is_offseason', col1_is=0)\n",
    "# onseason_wkend"
   ]
  },
  {
   "cell_type": "code",
   "execution_count": null,
   "id": "23209a77",
   "metadata": {},
   "outputs": [],
   "source": [
    "proj.visualize_trends(onseason_wkend, 'League_onseason')"
   ]
  },
  {
   "cell_type": "code",
   "execution_count": null,
   "id": "f0f98924",
   "metadata": {},
   "outputs": [],
   "source": [
    "offseasoff_wkend = proj.get_accidents_when(accidents, col1='is_offseason', col1_is=1)\n",
    "# offseasoff_wkend"
   ]
  },
  {
   "cell_type": "code",
   "execution_count": null,
   "id": "6c5b44fe",
   "metadata": {},
   "outputs": [],
   "source": [
    "proj.visualize_trends(offseasoff_wkend, 'League_offseason')"
   ]
  },
  {
   "cell_type": "code",
   "execution_count": null,
   "id": "943bece0",
   "metadata": {
    "scrolled": true
   },
   "outputs": [],
   "source": [
    "cols = ['is_offseason', 'part_of_day',  'day_name']\n",
    "acc_df = proj.get_accidents_with_labels(accidents)\n",
    "counts = proj.rank_top_occurrences(acc_df[cols], top_n=3, min_count_allowed=2000)\n",
    "# display(counts)\n",
    "labes = proj.create_label_from_ranking(counts[cols[:-1]], exclude_last_col=False)\n",
    "# display(labes)\n",
    "proj.plot_bar(counts['total_count'], labes, condition_on=counts[cols[-1]], annotate=True,\n",
    "             plot_title='League Season Relationship to Other Variables', \n",
    "             paletter={'Sunday': 'green', 'Monday': 'blue', 'Tuesday': 'yellow', 'Wednesday': 'darkorange', \n",
    "                       'Thursday': 'red', 'Friday': 'black', 'Saturday': 'gray'}, savefig=True,\n",
    "             fig_filename='pl_rlship.png')"
   ]
  },
  {
   "cell_type": "code",
   "execution_count": null,
   "id": "07a7b149",
   "metadata": {
    "scrolled": true
   },
   "outputs": [],
   "source": [
    "cols = ['is_offseason', 'is_weekend',  'accident_severity']\n",
    "acc_df = proj.get_accidents_with_labels(accidents)\n",
    "counts = proj.rank_top_occurrences(acc_df[cols], top_n=3, min_count_allowed=2000)\n",
    "# display(counts)\n",
    "labes = proj.create_label_from_ranking(counts[cols[:-1]], exclude_last_col=False)\n",
    "# display(labes)\n",
    "proj.plot_bar(counts['total_count'], labes, condition_on=counts[cols[-1]], annotate=True,\n",
    "             plot_title='League Season Relationship to Other Variables', \n",
    "             paletter={'fatal':'black', 'serious':'red', 'minor':'gray'}, \n",
    "              savefig=True, fig_filename='pl_rlship_wknd.png')"
   ]
  },
  {
   "cell_type": "code",
   "execution_count": null,
   "id": "e84a5139",
   "metadata": {
    "scrolled": true
   },
   "outputs": [],
   "source": [
    "cols = ['is_offseason', 'local_authority_district', 'local_authority_highway', 'accident_severity']\n",
    "result = proj.run_apriori(acc_df[cols], min_support=0.01)\n",
    "# result"
   ]
  },
  {
   "cell_type": "code",
   "execution_count": null,
   "id": "274370ec",
   "metadata": {
    "scrolled": true
   },
   "outputs": [],
   "source": [
    "counts = proj.rank_top_occurrences(acc_df[cols], top_n=3, min_count_allowed=2000)\n",
    "# display(counts)\n",
    "labes = proj.create_label_from_ranking(counts[cols[:-1]], exclude_last_col=False)\n",
    "# display(labes)\n",
    "proj.plot_bar(counts['total_count'], labes, condition_on=counts[cols[-1]], annotate=True,\n",
    "             plot_title='League Season Relationship to Other Variables', \n",
    "             paletter={'fatal':'black', 'serious':'red', 'minor':'gray'}, \n",
    "              savefig=True, fig_filename='pl_rlship_distr.png')"
   ]
  },
  {
   "cell_type": "markdown",
   "id": "2a0b8e8f",
   "metadata": {},
   "source": [
    "### SEVERITY ANALYSIS"
   ]
  },
  {
   "cell_type": "code",
   "execution_count": null,
   "id": "bc81c17a",
   "metadata": {
    "scrolled": true
   },
   "outputs": [],
   "source": [
    "fname = 'w:\\\\MSc-AIDS-UoH\\\\Trimester_2\\\\UoH_Big_Data_and_Data_Mining\\\\Project\\\\Report\\\\RoadAccidentsOutput\\\\accidents_ext.csv'\n",
    "accidents = pd.read_csv(fname, low_memory=False)\n",
    "accidents.info()"
   ]
  },
  {
   "cell_type": "code",
   "execution_count": null,
   "id": "1a656933",
   "metadata": {},
   "outputs": [],
   "source": [
    "general_agg = proj.generate_aggregated_lookup(accidents)\n",
    "# general_agg"
   ]
  },
  {
   "cell_type": "code",
   "execution_count": null,
   "id": "c8ed2e0e",
   "metadata": {
    "scrolled": true
   },
   "outputs": [],
   "source": [
    "cols = ['season_num', 'season', 'day_of_week', 'day_name', 'total_count']\n",
    "acc_hr_dayname = general_agg[cols].groupby(cols[:-1]).sum().reset_index()\n",
    "# acc_hr_dayname"
   ]
  },
  {
   "cell_type": "code",
   "execution_count": null,
   "id": "93e35fd9",
   "metadata": {},
   "outputs": [],
   "source": [
    "summer = proj.get_accidents_when(accidents, 'season', 'summer')\n",
    "# summer"
   ]
  },
  {
   "cell_type": "code",
   "execution_count": null,
   "id": "dfe3ebf2",
   "metadata": {
    "scrolled": true
   },
   "outputs": [],
   "source": [
    "cols = ['is_dst', 'casualty_severity']\n",
    "agg = accidents[cols].groupby(cols).size().sort_index().reset_index()\n",
    "agg.columns = agg.columns.astype(str).str.replace('0', 'total_count').str.replace('casualty_', '')\n",
    "# agg"
   ]
  },
  {
   "cell_type": "code",
   "execution_count": null,
   "id": "64e17f0b",
   "metadata": {
    "scrolled": true
   },
   "outputs": [],
   "source": [
    "# guide = dict(var_look['Casualty Severity'].to_records(index=False))\n",
    "guide = {1: 'fatal', 2: 'serious', 3: 'minor'}\n",
    "# guide2 = {1:'morning', 2:'afternoon', 3:'evening', 4:'night'}\n",
    "agg['casualty_severity'] = agg['severity'].map(guide)\n",
    "# agg['part_of_day'] = agg['part_of_day_num'].map(guide2)\n",
    "# display(agg)"
   ]
  },
  {
   "cell_type": "code",
   "execution_count": null,
   "id": "8f6cd9ec",
   "metadata": {},
   "outputs": [],
   "source": [
    "# selected = proj.get_accidents_when(accidents, 'quarter', 0)\n",
    "# selected = pd.concat([agg, words], axis=1,)\n",
    "#                      keys=['quarter', 'casualty_severity_num', 'casualty_severity'])\n",
    "# selected"
   ]
  },
  {
   "cell_type": "code",
   "execution_count": null,
   "id": "532c4fef",
   "metadata": {
    "scrolled": true
   },
   "outputs": [],
   "source": [
    "fig, ax = plt.subplots(figsize=(25, 12), dpi=200)\n",
    "proj.plot_column(agg[cols[0]], agg['total_count'], agg[cols[1]], include_perc=True, \n",
    "                 axis=ax, y_labe='total_count', x_labe='DST',\n",
    "                 xy_labe_size=12,top_labe_gap=5000,\n",
    "                  paletter={'fatal':'red', 'serious':'yellow', 'minor':'gray'}, h_labe_shift=-0.1,\n",
    "                 annot_size=14, ylim=(0, 140000), #rotate_xticklabe=True,\n",
    "                 plot_title='2019 UK CASUALTY SEVERITY DURING DST',)# savefig=True, )\n",
    "# sns.move_legend(ax, [1.02, 0.45])\n",
    "fname = 'cas_sev_dst.png'\n",
    "proj.fig_writer(fname, fig)"
   ]
  },
  {
   "cell_type": "code",
   "execution_count": null,
   "id": "2b9b2b4e",
   "metadata": {
    "scrolled": true
   },
   "outputs": [],
   "source": [
    "selected = proj.get_accidents_when(accidents, 'casualty_severity', 1,\n",
    "                                   'is_weekend', 0)\n",
    "# display(selected)\n",
    "\n",
    "proj.plot_accident_map(accidents, selected, main_color='gray', focus_color='red',\n",
    "                       plot_title='WEEKDAY ACCIDENT FATALITY', savefig=True, \n",
    "                       fig_filename='wkday_fatal_accidents.png')"
   ]
  },
  {
   "cell_type": "code",
   "execution_count": null,
   "id": "e6a66f7d",
   "metadata": {
    "scrolled": true
   },
   "outputs": [],
   "source": [
    "proj.visualize_top_ten_districts(accidents, savefig=True, suffix='fatal')"
   ]
  },
  {
   "cell_type": "code",
   "execution_count": null,
   "id": "dec3692f",
   "metadata": {},
   "outputs": [],
   "source": [
    "cols = ['local_authority_district', 'is_weekend']\n",
    "distrs = proj.assign_district(accidents)\n",
    "df = pd.concat([distrs, accidents[cols[1]]],\n",
    "              axis=1)\n",
    "# df"
   ]
  },
  {
   "cell_type": "code",
   "execution_count": null,
   "id": "e5edf317",
   "metadata": {},
   "outputs": [],
   "source": [
    "selected = df.groupby(cols).size().sort_values(ascending=False).reset_index()\n",
    "selected.columns = selected.columns.astype(str).str.replace('0', 'total_count')\n",
    "top10_wkend_districts = selected.loc[selected[cols[1]] == 1].iloc[:10]\n",
    "# top10_wkend_districts"
   ]
  },
  {
   "cell_type": "code",
   "execution_count": null,
   "id": "41869009",
   "metadata": {
    "scrolled": true
   },
   "outputs": [],
   "source": [
    "proj.visualize_top_ten_districts(accidents, col='is_weekend', plot_title='TOP TEN DISTRICT WITH HIGHEST WEEKEND ACCIDENTS', \n",
    "                            suffix='wkend', savefig=True)"
   ]
  },
  {
   "cell_type": "code",
   "execution_count": null,
   "id": "15cabd30",
   "metadata": {
    "scrolled": true
   },
   "outputs": [],
   "source": [
    "proj.visualize_top_ten_districts(accidents, col='is_weekend', select_col_val=0, \n",
    "                                 plot_title='TOP TEN DISTRICT WITH HIGHEST WEEKDAY ACCIDENTS', \n",
    "                                 suffix='wkday', savefig=True)"
   ]
  },
  {
   "cell_type": "code",
   "execution_count": null,
   "id": "e3cdc927",
   "metadata": {
    "scrolled": true
   },
   "outputs": [],
   "source": [
    "proj.visualize_top_ten_districts(accidents, col='is_dst', plot_title='TOP TEN DISTRICT WITH HIGHEST DST ACCIDENTS', \n",
    "                            suffix='dst', savefig=True)"
   ]
  },
  {
   "cell_type": "code",
   "execution_count": null,
   "id": "385e3e8f",
   "metadata": {
    "scrolled": true
   },
   "outputs": [],
   "source": [
    "proj.visualize_top_ten_districts(accidents, col='is_offseason', plot_title='TOP TEN DISTRICT WITH HIGHEST LEAGUE OFFSEASON ACCIDENTS', \n",
    "                            suffix='offseason', savefig=True)"
   ]
  },
  {
   "cell_type": "code",
   "execution_count": null,
   "id": "85553c6b",
   "metadata": {
    "scrolled": true
   },
   "outputs": [],
   "source": [
    "proj.visualize_top_ten_districts(accidents, col='is_offseason', select_col_val=0,\n",
    "                                 plot_title='TOP TEN DISTRICT WITH HIGHEST LEAGUE ONSEASON ACCIDENTS', \n",
    "                            suffix='onseason', savefig=True)"
   ]
  },
  {
   "cell_type": "markdown",
   "id": "d3484f8c",
   "metadata": {},
   "source": [
    "## a) HYPOTHESIS TESTING\n"
   ]
  },
  {
   "cell_type": "code",
   "execution_count": null,
   "id": "821a73eb",
   "metadata": {
    "scrolled": true
   },
   "outputs": [],
   "source": [
    "fname = 'w:\\\\MSc-AIDS-UoH\\\\Trimester_2\\\\UoH_Big_Data_and_Data_Mining\\\\Project\\\\Report\\\\RoadAccidentsOutput\\\\accidents_ext.csv'\n",
    "accidents = pd.read_csv(fname, low_memory=False)\n",
    "# accidents.info()"
   ]
  },
  {
   "cell_type": "code",
   "execution_count": null,
   "id": "c49e1c62",
   "metadata": {},
   "outputs": [],
   "source": [
    "general_agg = proj.generate_aggregated_lookup(accidents)\n",
    "# general_agg"
   ]
  },
  {
   "cell_type": "code",
   "execution_count": null,
   "id": "9bc56a06",
   "metadata": {
    "scrolled": true
   },
   "outputs": [],
   "source": [
    "#### H1: September total weekend accidents >  May weekend accidents\n",
    "cols = ['month', 'month_name', 'is_weekend', 'total_count']\n",
    "X1_name='September Weekend accidents'\n",
    "X2_name='May Weekend accidents'\n",
    "proj.test_hypotheses(accidents, agg_cols=cols, focus_col='month_name', bigger_set_name=X1_name, \n",
    "                smaller_set_name=X2_name, bigger_set_vals='September', smaller_set_vals='May',\n",
    "               second_condition_col='is_weekend', second_condition_val=1)"
   ]
  },
  {
   "cell_type": "code",
   "execution_count": null,
   "id": "6c5cd23a",
   "metadata": {
    "scrolled": true
   },
   "outputs": [],
   "source": [
    "#### H1: September weekly weekend accidents >  May weekend accidents\n",
    "cols = ['month', 'month_name', 'week_num', 'is_weekend', 'total_count']\n",
    "X1_name='September weekly Weekend accidents'\n",
    "X2_name='May weekly Weekend accidents'\n",
    "proj.test_hypotheses(accidents, agg_cols=cols, focus_col='month_name', bigger_set_name=X1_name, \n",
    "                smaller_set_name=X2_name, bigger_set_vals='September', smaller_set_vals='May',\n",
    "               second_condition_col='is_weekend', second_condition_val=1)"
   ]
  },
  {
   "cell_type": "code",
   "execution_count": null,
   "id": "1d633c10",
   "metadata": {
    "scrolled": true
   },
   "outputs": [],
   "source": [
    "#### H1: monthly minor accidents > serious accidents\n",
    "cols = ['month', 'accident_severity', 'total_count']\n",
    "X1_name='Minor monthly accidents'\n",
    "X2_name='Serious monthly accidents'\n",
    "acc_df = proj.get_accidents_with_labels(accidents)\n",
    "proj.test_hypotheses(acc_df, agg_cols=cols, focus_col='accident_severity', bigger_set_name=X1_name, \n",
    "                smaller_set_name=X2_name, bigger_set_vals='minor', smaller_set_vals='serious',)\n",
    "#                second_condition_col='month', second_condition_val=1)"
   ]
  },
  {
   "cell_type": "code",
   "execution_count": null,
   "id": "ee0621cf",
   "metadata": {
    "scrolled": true
   },
   "outputs": [],
   "source": [
    "#### H1: week 51 daily accidents > week 52 \n",
    "cols = ['week_num', 'day_num', 'total_count']\n",
    "X1_name='wk51 weekly accidents'\n",
    "X2_name='wk52 weekly accidents'\n",
    "\n",
    "# acc_df = proj.get_accidents_with_labels(accidents)\n",
    "proj.test_hypotheses(accidents, agg_cols=cols, focus_col='week_num', bigger_set_name=X1_name, \n",
    "                smaller_set_name=X2_name, bigger_set_vals=51, smaller_set_vals=52,)\n",
    "#                second_condition_col='month', second_condition_val=1)"
   ]
  },
  {
   "cell_type": "code",
   "execution_count": null,
   "id": "8209300b",
   "metadata": {
    "scrolled": true
   },
   "outputs": [],
   "source": [
    "#### H1: week 51 daily accidents > week 52 \n",
    "cols = ['week_num', 'hour', 'total_count']\n",
    "X1_name='wk51 hourly accidents'\n",
    "X2_name='wk52 hourly accidents'\n",
    "\n",
    "# acc_df = proj.get_accidents_with_labels(accidents)\n",
    "proj.test_hypotheses(accidents, agg_cols=cols, focus_col='week_num', bigger_set_name=X1_name, \n",
    "                smaller_set_name=X2_name, bigger_set_vals=51, smaller_set_vals=52,)\n",
    "#                second_condition_col='month', second_condition_val=1)"
   ]
  },
  {
   "cell_type": "code",
   "execution_count": null,
   "id": "f079189d",
   "metadata": {
    "scrolled": true
   },
   "outputs": [],
   "source": [
    "#### H1: January weekly weekday accidents > February weekday accidents\n",
    "cols = ['month', 'month_name','week_num', 'is_weekend', 'total_count']\n",
    "X1_name='January weekly Weekday accidents'\n",
    "X2_name='February weekly Weekday accidents'\n",
    "\n",
    "# acc_df = proj.get_accidents_with_labels(accidents)\n",
    "proj.test_hypotheses(accidents, agg_cols=cols, focus_col='month_name', bigger_set_name=X1_name, \n",
    "                smaller_set_name=X2_name, bigger_set_vals='January', smaller_set_vals='February',\n",
    "               second_condition_col='is_weekend', second_condition_val=0)"
   ]
  },
  {
   "cell_type": "markdown",
   "id": "d2e0265f",
   "metadata": {},
   "source": [
    "### Hours of Day"
   ]
  },
  {
   "cell_type": "code",
   "execution_count": null,
   "id": "3ca33ff1",
   "metadata": {
    "scrolled": true
   },
   "outputs": [],
   "source": [
    "#### H1: Monthly afternoon accidents > evening\n",
    "cols = ['part_of_day_num', 'part_of_day', 'month', 'total_count']\n",
    "X1_name='Monthly Afternoon accidents'\n",
    "X2_name='Monthly Evening accidents'\n",
    "\n",
    "# acc_df = proj.get_accidents_with_labels(accidents)\n",
    "proj.test_hypotheses(accidents, agg_cols=cols, focus_col='part_of_day', bigger_set_name=X1_name, \n",
    "                smaller_set_name=X2_name, bigger_set_vals='afternoon', smaller_set_vals='evening',)\n",
    "#                second_condition_col='is_weekend', second_condition_val=0)"
   ]
  },
  {
   "cell_type": "code",
   "execution_count": null,
   "id": "74ddb5b8",
   "metadata": {
    "scrolled": true
   },
   "outputs": [],
   "source": [
    "#### H1: Daily afternoon accidents > nighttime\n",
    "cols = ['part_of_day_num', 'part_of_day', 'day_num', 'total_count']\n",
    "X1_name='Daily Afternoon accidents'\n",
    "X2_name='Daily Evening accidents'\n",
    "\n",
    "# acc_df = proj.get_accidents_with_labels(accidents)\n",
    "proj.test_hypotheses(accidents, agg_cols=cols, focus_col='part_of_day', bigger_set_name=X1_name, \n",
    "                smaller_set_name=X2_name, bigger_set_vals='afternoon', smaller_set_vals='evening',)\n",
    "#                second_condition_col='is_weekend', second_condition_val=0)"
   ]
  },
  {
   "cell_type": "code",
   "execution_count": null,
   "id": "d9104b17",
   "metadata": {
    "scrolled": true
   },
   "outputs": [],
   "source": [
    "#### H1: Hourly afternoon accidents > nighttime\n",
    "cols = ['part_of_day_num', 'part_of_day', 'hour', 'total_count']\n",
    "X1_name='Hourly Afternoon accidents'\n",
    "X2_name='Hourly Evening accidents'\n",
    "\n",
    "# acc_df = proj.get_accidents_with_labels(accidents)\n",
    "proj.test_hypotheses(accidents, agg_cols=cols, focus_col='part_of_day', bigger_set_name=X1_name, \n",
    "                smaller_set_name=X2_name, bigger_set_vals='afternoon', smaller_set_vals='evening',)\n",
    "#                second_condition_col='is_weekend', second_condition_val=0)"
   ]
  },
  {
   "cell_type": "code",
   "execution_count": null,
   "id": "fa062d4a",
   "metadata": {
    "scrolled": true
   },
   "outputs": [],
   "source": [
    "# active > inactive daily\n",
    "X1_name='Daily active time accidents'\n",
    "X2_name='Daily inactive time accidents'\n",
    "cols = ['day_num', 'inactive_hour', 'total_count']\n",
    "# acc_df = proj.get_accidents_with_labels(accidents)\n",
    "proj.test_hypotheses(accidents, agg_cols=cols, focus_col=cols[1], bigger_set_name=X1_name, \n",
    "                smaller_set_name=X2_name, bigger_set_vals=0, smaller_set_vals=1,)\n",
    "#                second_condition_col='is_weekend', second_condition_val=0)"
   ]
  },
  {
   "cell_type": "markdown",
   "id": "01becee0",
   "metadata": {},
   "source": [
    "#### H1: Friday weekly accidents > Sunday accidents"
   ]
  },
  {
   "cell_type": "code",
   "execution_count": null,
   "id": "e2f4720a",
   "metadata": {
    "scrolled": true
   },
   "outputs": [],
   "source": [
    "cols = ['week_num', 'day_of_week', 'day_name', 'total_count']\n",
    "X1_name='Weekly Friday accidents'\n",
    "X2_name='Weekly Sunday accidents'\n",
    "\n",
    "#H1: friday > sunday weekly accidents\n",
    "# acc_df = proj.get_accidents_with_labels(accidents)\n",
    "proj.test_hypotheses(accidents, agg_cols=cols, focus_col=cols[2], bigger_set_name=X1_name, \n",
    "                smaller_set_name=X2_name, bigger_set_vals='Friday', smaller_set_vals='Sunday',)\n",
    "#                second_condition_col='is_weekend', second_condition_val=0)"
   ]
  },
  {
   "cell_type": "code",
   "execution_count": null,
   "id": "d8c63e06",
   "metadata": {
    "scrolled": true
   },
   "outputs": [],
   "source": [
    "cols = ['month', 'day_of_week', 'day_name', 'total_count']\n",
    "X1_name='Monthly Friday accidents'\n",
    "X2_name='Monthly Sunday accidents'\n",
    "\n",
    "#H1: friday > sunday Monthly accidents\n",
    "# acc_df = proj.get_accidents_with_labels(accidents)\n",
    "proj.test_hypotheses(accidents, agg_cols=cols, focus_col=cols[2], bigger_set_name=X1_name, \n",
    "                smaller_set_name=X2_name, bigger_set_vals='Friday', smaller_set_vals='Sunday',)\n",
    "#                second_condition_col='is_Monthend', second_condition_val=0)"
   ]
  },
  {
   "cell_type": "code",
   "execution_count": null,
   "id": "b19bb81b",
   "metadata": {
    "scrolled": true
   },
   "outputs": [],
   "source": [
    "cols = ['hour', 'day_of_week', 'day_name', 'total_count']\n",
    "X1_name='hourly Friday accidents'\n",
    "X2_name='hourly Sunday accidents'\n",
    "\n",
    "#H1: friday > sunday hourly accidents\n",
    "# acc_df = proj.get_accidents_with_labels(accidents)\n",
    "proj.test_hypotheses(accidents, agg_cols=cols, focus_col=cols[2], bigger_set_name=X1_name, \n",
    "                smaller_set_name=X2_name, bigger_set_vals='Friday', smaller_set_vals='Sunday',)\n",
    "#                second_condition_col='is_hourend', second_condition_val=0)"
   ]
  },
  {
   "cell_type": "markdown",
   "id": "9535f97d",
   "metadata": {},
   "source": [
    "#### H1:  Hourly weekday accidents > Weekend  accidents"
   ]
  },
  {
   "cell_type": "code",
   "execution_count": null,
   "id": "160e696a",
   "metadata": {
    "scrolled": true
   },
   "outputs": [],
   "source": [
    "cols = ['hour', 'is_weekend', 'total_count']\n",
    "X1_name='hourly weekday accidents'\n",
    "X2_name='hourly weekend accidents'\n",
    "\n",
    "#H1: friday > sunday hourly accidents\n",
    "# acc_df = proj.get_accidents_with_labels(accidents)\n",
    "proj.test_hypotheses(accidents, agg_cols=cols, focus_col=cols[1], bigger_set_name=X1_name, \n",
    "                smaller_set_name=X2_name, bigger_set_vals=0, smaller_set_vals=1,)\n",
    "#                second_condition_col='is_hourend', second_condition_val=0)"
   ]
  },
  {
   "cell_type": "markdown",
   "id": "91aab1d6",
   "metadata": {
    "scrolled": true
   },
   "source": [
    "#### H1: wkday > wkend weekly"
   ]
  },
  {
   "cell_type": "code",
   "execution_count": null,
   "id": "dad2f6b8",
   "metadata": {
    "scrolled": true
   },
   "outputs": [],
   "source": [
    "cols = ['week_num', 'is_weekend', 'total_count']\n",
    "X1_name='weekly Weekday accidents'\n",
    "X2_name='weekly Weekend accidents'\n",
    "\n",
    "#H1: friday > sunday weekly accidents\n",
    "# acc_df = proj.get_accidents_with_labels(accidents)\n",
    "proj.test_hypotheses(accidents, agg_cols=cols, focus_col=cols[1], bigger_set_name=X1_name, \n",
    "                smaller_set_name=X2_name, bigger_set_vals=0, smaller_set_vals=1,)\n",
    "#                second_condition_col='is_weekend', second_condition_val=0)"
   ]
  },
  {
   "cell_type": "markdown",
   "id": "abcc15ac",
   "metadata": {
    "scrolled": true
   },
   "source": [
    "#### H1: wkday monthly accidents > wkend "
   ]
  },
  {
   "cell_type": "code",
   "execution_count": null,
   "id": "fddec509",
   "metadata": {
    "scrolled": true
   },
   "outputs": [],
   "source": [
    "cols = ['month', 'is_weekend', 'total_count']\n",
    "X1_name='monthly Weekday accidents'\n",
    "X2_name='monthly Weekend accidents'\n",
    "\n",
    "#H1: friday > sunday weekly accidents\n",
    "# acc_df = proj.get_accidents_with_labels(accidents)\n",
    "proj.test_hypotheses(accidents, agg_cols=cols, focus_col=cols[1], bigger_set_name=X1_name, \n",
    "                smaller_set_name=X2_name, bigger_set_vals=0, smaller_set_vals=1,)\n",
    "#                second_condition_col='is_weekend', second_condition_val=0)"
   ]
  },
  {
   "cell_type": "markdown",
   "id": "c6ccaf29",
   "metadata": {},
   "source": [
    "#### H1:Summer fridays > winter fridays"
   ]
  },
  {
   "cell_type": "code",
   "execution_count": null,
   "id": "97d7b0f6",
   "metadata": {
    "scrolled": true
   },
   "outputs": [],
   "source": [
    "cols = ['week_num', 'season', 'day_name', 'total_count']\n",
    "X1_name='Summer weekly Friday accidents'\n",
    "X2_name='Winter weekly Friday accidents'\n",
    "\n",
    "#H1: friday > sunday weekly accidents\n",
    "# acc_df = proj.get_accidents_with_labels(accidents)\n",
    "proj.test_hypotheses(accidents, agg_cols=cols, focus_col=cols[1], bigger_set_name=X1_name, \n",
    "                smaller_set_name=X2_name, bigger_set_vals='summer', smaller_set_vals='winter',\n",
    "               second_condition_col='day_name', second_condition_val='Friday')"
   ]
  },
  {
   "cell_type": "code",
   "execution_count": null,
   "id": "64e101bb",
   "metadata": {
    "scrolled": true
   },
   "outputs": [],
   "source": [
    "cols = ['month', 'season', 'day_name', 'total_count']\n",
    "X1_name='Summer monthly Friday accidents'\n",
    "X2_name='Winter monthly Friday accidents'\n",
    "\n",
    "#H1: friday > sunday weekly accidents\n",
    "# acc_df = proj.get_accidents_with_labels(accidents)\n",
    "proj.test_hypotheses(accidents, agg_cols=cols, focus_col=cols[1], bigger_set_name=X1_name, \n",
    "                smaller_set_name=X2_name, bigger_set_vals='summer', smaller_set_vals='winter',\n",
    "               second_condition_col='day_name', second_condition_val='Friday')"
   ]
  },
  {
   "cell_type": "markdown",
   "id": "8831c563",
   "metadata": {},
   "source": [
    "#### Day Time (from 7am to 18pm) Vs. Night Time (from 19pm to 6am)\n",
    "NULL HYPOTHESIS: <br>\n",
    "Generally speaking, the total accident count during day time is less than or equal to the total accident count during night time.<br>\n",
    "ALTERNATE HYPOTHESIS:<br>\n",
    "Generally speaking, the accident count during day time is higher than night time accident count."
   ]
  },
  {
   "cell_type": "code",
   "execution_count": null,
   "id": "a8d07c6b",
   "metadata": {
    "scrolled": true
   },
   "outputs": [],
   "source": [
    "cols = ['hour', 'total_count']\n",
    "X1_name='Total day Working Time (7am to 18pm)'\n",
    "X2_name='Total night Time (19pm to 6am)'\n",
    "\n",
    "#H1: friday > sunday weekly accidents\n",
    "# acc_df = proj.get_accidents_with_labels(accidents)\n",
    "proj.test_hypotheses(accidents, agg_cols=cols, focus_col=cols[0], bigger_set_name=X1_name, \n",
    "                smaller_set_name=X2_name, bigger_set_vals=[7, 8, 9, 10, 11, 12, 13, 14, 15, 16, 17, 18],\n",
    "                smaller_set_vals=[19, 20, 21, 22, 23, 0, 1, 2, 3, 4, 5, 6],)\n",
    "#                second_condition_col='day_name', second_condition_val='Friday')"
   ]
  },
  {
   "cell_type": "code",
   "execution_count": null,
   "id": "7a1c5a07",
   "metadata": {
    "scrolled": true
   },
   "outputs": [],
   "source": [
    "cols = ['hour', 'week_num', 'total_count']\n",
    "X1_name='weekly day Working Time (7am to 18pm)'\n",
    "X2_name='weekly night Time (19pm to 6am)'\n",
    "\n",
    "#H1: friday > sunday weekly accidents\n",
    "# acc_df = proj.get_accidents_with_labels(accidents)\n",
    "proj.test_hypotheses(accidents, agg_cols=cols, focus_col=cols[0], bigger_set_name=X1_name, \n",
    "                smaller_set_name=X2_name, bigger_set_vals=[7, 8, 9, 10, 11, 12, 13, 14, 15, 16, 17, 18],\n",
    "                smaller_set_vals=[19, 20, 21, 22, 23, 0, 1, 2, 3, 4, 5, 6],)\n",
    "#                second_condition_col='day_name', second_condition_val='Friday')"
   ]
  },
  {
   "cell_type": "code",
   "execution_count": null,
   "id": "66e4f28a",
   "metadata": {
    "scrolled": true
   },
   "outputs": [],
   "source": [
    "cols = ['hour', 'month', 'total_count']\n",
    "X1_name='monthly day Working Time (7am to 18pm)'\n",
    "X2_name='monthly night Time (19pm to 6am)'\n",
    "\n",
    "#H1: friday > sunday weekly accidents\n",
    "# acc_df = proj.get_accidents_with_labels(accidents)\n",
    "proj.test_hypotheses(accidents, agg_cols=cols, focus_col=cols[0], bigger_set_name=X1_name, \n",
    "                smaller_set_name=X2_name, bigger_set_vals=[7, 8, 9, 10, 11, 12, 13, 14, 15, 16, 17, 18],\n",
    "                smaller_set_vals=[19, 20, 21, 22, 23, 0, 1, 2, 3, 4, 5, 6],)\n",
    "#                second_condition_col='day_name', second_condition_val='Friday')"
   ]
  },
  {
   "cell_type": "markdown",
   "id": "27385695",
   "metadata": {},
   "source": [
    "#### H1: active time hourly accidents > inactive time accidents"
   ]
  },
  {
   "cell_type": "code",
   "execution_count": null,
   "id": "36654aaa",
   "metadata": {
    "scrolled": true
   },
   "outputs": [],
   "source": [
    "cols = ['hour', 'inactive_hour', 'total_count']\n",
    "X1_name='Hourly active time accidents'\n",
    "X2_name='Hourly inactive time accidents'\n",
    "\n",
    "#H1: friday > sunday weekly accidents\n",
    "# acc_df = proj.get_accidents_with_labels(accidents)\n",
    "proj.test_hypotheses(accidents, agg_cols=cols, focus_col=cols[1], bigger_set_name=X1_name, \n",
    "                smaller_set_name=X2_name, bigger_set_vals=0,\n",
    "                smaller_set_vals=1,)\n",
    "#                second_condition_col='day_name', second_condition_val='Friday')"
   ]
  },
  {
   "cell_type": "markdown",
   "id": "787482e4",
   "metadata": {},
   "source": [
    "### SIGNIFICANT DAY OF WEEK"
   ]
  },
  {
   "cell_type": "markdown",
   "id": "86b28d95",
   "metadata": {},
   "source": [
    "#### H1: Inactive hour accidents on Fridays, Saturdays, Sundays > other days"
   ]
  },
  {
   "cell_type": "code",
   "execution_count": null,
   "id": "c2b2a6f0",
   "metadata": {
    "scrolled": true
   },
   "outputs": [],
   "source": [
    "cols = ['day_of_week', 'day_name', 'inactive_hour', 'total_count', ]\n",
    "X1_name = 'inactive hour accidents on Fri-Sat-Sun'\n",
    "X2_name = 'inactive hour accidents on Mon-Tue-Wed-Thur'\n",
    "proj.test_hypotheses(accidents, cols, focus_col=cols[1], bigger_set_name=X1_name,\n",
    "                    smaller_set_name=X2_name, bigger_set_vals=['Friday', 'Saturday', 'Sunday'],\n",
    "                    smaller_set_vals=['Monday', 'Tuesday', 'Wednesday', 'Thursday'],\n",
    "                    second_condition_col=cols[2], second_condition_val=1, balance_unequal=False)"
   ]
  },
  {
   "cell_type": "code",
   "execution_count": null,
   "id": "714b69c7",
   "metadata": {
    "scrolled": true
   },
   "outputs": [],
   "source": [
    "cols = ['day_of_week', 'day_name', 'inactive_hour', 'total_count']\n",
    "agg_df = proj.generate_aggregated_lookup(accidents)\n",
    "agg_df = agg_df[cols].groupby(cols[:-1]).sum().reset_index()\n",
    "proj.plot_bar(agg_df[cols[-1]], agg_df[cols[1]], agg_df[cols[2]],\n",
    "              paletter={0:'green', 1:'gray'},\n",
    "             plot_title='Relationship Between Day of Week and Part of Day', annotate=True,\n",
    "             savefig=True, fig_filename='rlship_dayname_inav.png',)# xlim=(0, 19000))"
   ]
  },
  {
   "cell_type": "code",
   "execution_count": null,
   "id": "d237a470",
   "metadata": {},
   "outputs": [],
   "source": [
    "cols = ['part_of_day', 'day_of_week', 'day_name', 'total_count']\n",
    "agg_df = proj.generate_aggregated_lookup(accidents)\n",
    "agg_df = agg_df[cols].groupby(cols[:-1]).sum().reset_index()\n",
    "proj.plot_bar(agg_df[cols[-1]], agg_df[cols[2]], agg_df[cols[0]],\n",
    "              paletter={'morning':'green', 'afternoon':'yellow', 'evening':'gray', 'night':'black'},\n",
    "             plot_title='Relationship Between Day of Week and Part of Day', annotate=True,\n",
    "             savefig=True, fig_filename='rlship_dayname_pod.png', xlim=(0, 19000))"
   ]
  },
  {
   "cell_type": "markdown",
   "id": "2647bce6",
   "metadata": {},
   "source": [
    "#### Night hours accidents on Fridays-Saturdays-Sundays > Mondays-Tuesdays-Wednesdays-Thursdays"
   ]
  },
  {
   "cell_type": "code",
   "execution_count": null,
   "id": "f61042a5",
   "metadata": {
    "scrolled": true
   },
   "outputs": [],
   "source": [
    "cols = ['day_of_week', 'day_name', 'part_of_day', 'total_count', ]\n",
    "X1_name = 'nighttime accidents on Fri-Sat-Sun'\n",
    "X2_name = 'nighttime accidents on Mon-Tue-Wed-Thur'\n",
    "proj.test_hypotheses(accidents, cols, focus_col=cols[1], bigger_set_name=X1_name,\n",
    "                    smaller_set_name=X2_name, bigger_set_vals=['Friday', 'Saturday', 'Sunday'],\n",
    "                    smaller_set_vals=['Monday', 'Tuesday', 'Wednesday', 'Thursday'],\n",
    "                    second_condition_col=cols[2], second_condition_val='night', balance_unequal=False)"
   ]
  },
  {
   "cell_type": "code",
   "execution_count": null,
   "id": "b6888b24",
   "metadata": {
    "scrolled": true
   },
   "outputs": [],
   "source": [
    "cols = ['day_of_week', 'day_name', 'total_count']\n",
    "X1_name='Total Thursday_Friday'\n",
    "X2_name='Total Saturday_Sunday'\n",
    "\n",
    "#H1: friday > sunday weekly accidents\n",
    "# acc_df = proj.get_accidents_with_labels(accidents)\n",
    "proj.test_hypotheses(accidents, agg_cols=cols, focus_col=cols[1], bigger_set_name=X1_name, \n",
    "                smaller_set_name=X2_name, bigger_set_vals=['Thursday', 'Friday'],\n",
    "                smaller_set_vals=['Saturday', 'Sunday'],)\n",
    "#                second_condition_col='day_name', second_condition_val='Friday')"
   ]
  },
  {
   "cell_type": "code",
   "execution_count": null,
   "id": "e3843bff",
   "metadata": {
    "scrolled": true
   },
   "outputs": [],
   "source": [
    "cols = ['week_num', 'day_of_week', 'day_name', 'total_count']\n",
    "X1_name='weekly Thursday_Friday'\n",
    "X2_name='weekly Saturday_Sunday'\n",
    "\n",
    "#H1: friday > sunday weekly accidents\n",
    "# acc_df = proj.get_accidents_with_labels(accidents)\n",
    "proj.test_hypotheses(accidents, agg_cols=cols, focus_col=cols[2], bigger_set_name=X1_name, \n",
    "                smaller_set_name=X2_name, bigger_set_vals=['Thursday', 'Friday'],\n",
    "                smaller_set_vals=['Saturday', 'Sunday'],)\n",
    "#                second_condition_col='day_name', second_condition_val='Friday')"
   ]
  },
  {
   "cell_type": "code",
   "execution_count": null,
   "id": "cfe1ec5b",
   "metadata": {
    "scrolled": true
   },
   "outputs": [],
   "source": [
    "cols = ['month', 'day_of_week', 'day_name', 'total_count']\n",
    "X1_name='monthly Thursday_Friday'\n",
    "X2_name='monthly Saturday_Sunday'\n",
    "\n",
    "#H1: friday > sunday monthly accidents\n",
    "# acc_df = proj.get_accidents_with_labels(accidents)\n",
    "proj.test_hypotheses(accidents, agg_cols=cols, focus_col=cols[2], bigger_set_name=X1_name, \n",
    "                smaller_set_name=X2_name, bigger_set_vals=['Thursday', 'Friday'],\n",
    "                smaller_set_vals=['Saturday', 'Sunday'],)\n",
    "#                second_condition_col='day_name', second_condition_val='Friday')"
   ]
  },
  {
   "cell_type": "code",
   "execution_count": null,
   "id": "0f6a68d9",
   "metadata": {
    "scrolled": true
   },
   "outputs": [],
   "source": [
    "cols = ['hour', 'day_of_week', 'day_name', 'total_count']\n",
    "X1_name='hourly Thursday_Friday'\n",
    "X2_name='hourly Saturday_Sunday'\n",
    "\n",
    "#H1: friday > sunday hourly accidents\n",
    "# acc_df = proj.get_accidents_with_labels(accidents)\n",
    "proj.test_hypotheses(accidents, agg_cols=cols, focus_col=cols[2], bigger_set_name=X1_name, \n",
    "                smaller_set_name=X2_name, bigger_set_vals=['Thursday', 'Friday'],\n",
    "                smaller_set_vals=['Saturday', 'Sunday'],)\n",
    "#                second_condition_col='day_name', second_condition_val='Friday')"
   ]
  },
  {
   "cell_type": "markdown",
   "id": "39fa3a05",
   "metadata": {},
   "source": [
    "#### H1: Accidents on Weekdays > Weekends"
   ]
  },
  {
   "cell_type": "code",
   "execution_count": null,
   "id": "c95a93f4",
   "metadata": {
    "scrolled": true
   },
   "outputs": [],
   "source": [
    "cols = ['week_num', 'is_weekend', 'total_count']\n",
    "X1_name='Weekly Weekdays'\n",
    "X2_name='Weekly Weekends'\n",
    "\n",
    "#H1: friday > sunday monthly accidents\n",
    "# acc_df = proj.get_accidents_with_labels(accidents)\n",
    "proj.test_hypotheses(accidents, agg_cols=cols, focus_col=cols[1], bigger_set_name=X1_name, \n",
    "                smaller_set_name=X2_name, bigger_set_vals=0,\n",
    "                smaller_set_vals=1,)\n",
    "#                second_condition_col='day_name', second_condition_val='Friday')"
   ]
  },
  {
   "cell_type": "code",
   "execution_count": null,
   "id": "83759ae1",
   "metadata": {
    "scrolled": true
   },
   "outputs": [],
   "source": [
    "cols = ['month', 'is_weekend', 'total_count']\n",
    "X1_name='monthly weekdays'\n",
    "X2_name='monthly weekends'\n",
    "\n",
    "#H1: friday > sunday monthly accidents\n",
    "# acc_df = proj.get_accidents_with_labels(accidents)\n",
    "proj.test_hypotheses(accidents, agg_cols=cols, focus_col=cols[1], bigger_set_name=X1_name, \n",
    "                smaller_set_name=X2_name, bigger_set_vals=0,\n",
    "                smaller_set_vals=1,)\n",
    "#                second_condition_col='day_name', second_condition_val='Friday')"
   ]
  },
  {
   "cell_type": "code",
   "execution_count": null,
   "id": "db8bdbf1",
   "metadata": {
    "scrolled": true
   },
   "outputs": [],
   "source": [
    "cols = ['season', 'week_num', 'is_weekend', 'total_count']\n",
    "X1_name='Summer Weekdays'\n",
    "X2_name='winter Weekdays'\n",
    "\n",
    "#H1: friday > sunday monthly accidents\n",
    "# acc_df = proj.get_accidents_with_labels(accidents)\n",
    "proj.test_hypotheses(accidents, agg_cols=cols, focus_col=cols[0], bigger_set_name=X1_name, \n",
    "                smaller_set_name=X2_name, bigger_set_vals='summer',\n",
    "                smaller_set_vals='winter',\n",
    "               second_condition_col=cols[2], second_condition_val=0, balance_unequal=False)"
   ]
  },
  {
   "cell_type": "code",
   "execution_count": null,
   "id": "22e353b8",
   "metadata": {
    "scrolled": true
   },
   "outputs": [],
   "source": [
    "cols = ['season', 'week_num', 'is_weekend', 'total_count']\n",
    "X1_name='Summer Weekends'\n",
    "X2_name='winter Weekends'\n",
    "\n",
    "#H1: friday > sunday monthly accidents\n",
    "# acc_df = proj.get_accidents_with_labels(accidents)\n",
    "proj.test_hypotheses(accidents, agg_cols=cols, focus_col=cols[0], bigger_set_name=X1_name, \n",
    "                smaller_set_name=X2_name, bigger_set_vals='summer',\n",
    "                smaller_set_vals='winter',\n",
    "               second_condition_col=cols[2], second_condition_val=1, balance_unequal=False)"
   ]
  },
  {
   "cell_type": "code",
   "execution_count": null,
   "id": "7b08c5f0",
   "metadata": {
    "scrolled": true
   },
   "outputs": [],
   "source": [
    "quarterly_impact(general_agg, [3, 1], ['friday', 'sunday'])"
   ]
  },
  {
   "cell_type": "markdown",
   "id": "752f8a3e",
   "metadata": {},
   "source": [
    "## b) FOR MOTORBIKES"
   ]
  },
  {
   "cell_type": "code",
   "execution_count": null,
   "id": "ac96d384",
   "metadata": {},
   "outputs": [],
   "source": [
    "from seaborn.utils import np, os, plt, pd\n",
    "import seaborn as sns\n",
    "import copy\n",
    "from sklearn import feature_selection as s_fs, preprocessing as s_prep, model_selection as s_ms, metrics as s_mtr\n",
    "# from mlxtend import frequent_patterns as mfp"
   ]
  },
  {
   "cell_type": "code",
   "execution_count": null,
   "id": "36a07ad2",
   "metadata": {},
   "outputs": [],
   "source": [
    "pd.set_option('precision', 3,\n",
    "             'max_columns', None)"
   ]
  },
  {
   "cell_type": "code",
   "execution_count": null,
   "id": "351f90a2",
   "metadata": {},
   "outputs": [],
   "source": [
    "from project_methods import RoadAccidents as proj"
   ]
  },
  {
   "cell_type": "code",
   "execution_count": null,
   "id": "1936f2a5",
   "metadata": {},
   "outputs": [],
   "source": [
    "sns.set_style('darkgrid')"
   ]
  },
  {
   "cell_type": "code",
   "execution_count": null,
   "id": "35fd5aa4",
   "metadata": {
    "scrolled": true
   },
   "outputs": [],
   "source": [
    "fname = 'w:\\\\MSc-AIDS-UoH\\\\Trimester_2\\\\UoH_Big_Data_and_Data_Mining\\\\Project\\\\Report\\\\RoadAccidentsOutput\\\\accidents_ext.csv'\n",
    "accidents = pd.read_csv(fname, low_memory=False)\n",
    "accidents.info()"
   ]
  },
  {
   "cell_type": "code",
   "execution_count": null,
   "id": "427cadd8",
   "metadata": {},
   "outputs": [],
   "source": [
    "mbike_acc = proj.get_mbike_accidents(accidents)\n",
    "mbike_acc"
   ]
  },
  {
   "cell_type": "markdown",
   "id": "b93f0f93",
   "metadata": {},
   "source": [
    "#### Visualize Trends"
   ]
  },
  {
   "cell_type": "code",
   "execution_count": null,
   "id": "7730eef2",
   "metadata": {},
   "outputs": [],
   "source": [
    "proj.visualize_trends(mbike_acc, 'motorbike')"
   ]
  },
  {
   "cell_type": "code",
   "execution_count": null,
   "id": "ae53bb70",
   "metadata": {},
   "outputs": [],
   "source": [
    "proj.seasonal_observations(mbike_acc, 'mbike')"
   ]
  },
  {
   "cell_type": "code",
   "execution_count": null,
   "id": "4e047704",
   "metadata": {
    "scrolled": true
   },
   "outputs": [],
   "source": [
    "proj.hourly_observations(mbike_acc, 'mbike')"
   ]
  },
  {
   "cell_type": "code",
   "execution_count": null,
   "id": "70034973",
   "metadata": {},
   "outputs": [],
   "source": [
    "cols = ['month', 'month_name','day_of_week', 'day_name', 'total_count']\n",
    "agg_df = proj.generate_aggregated_lookup(mbike_acc)\n",
    "agg_df = agg_df[cols].groupby(cols[:-1]).sum().reset_index()\n",
    "proj.plot_bar(agg_df[cols[-1]], agg_df[cols[1]], agg_df[cols[3]], annotate=True,\n",
    "             plot_title='Monthly Motorbike Accidents per Part of Day',\n",
    "             paletter={'Sunday': 'green', 'Monday': 'blue', 'Tuesday': 'yellow', 'Wednesday': 'darkorange',\n",
    "                       'Thursday': 'red', 'Friday': 'black', 'Saturday': 'gray'}, figsize=(10, 18),\n",
    "              savefig=True, fig_filename='rlship_mon_pod_mbike.png')"
   ]
  },
  {
   "cell_type": "code",
   "execution_count": null,
   "id": "a990676c",
   "metadata": {
    "scrolled": true
   },
   "outputs": [],
   "source": [
    "proj.plot_accident_map(accidents, mbike_acc, plot_title='UK 2019 MOTORBIKE ACCIDENTS',\n",
    "                      alpha=None, savefig=True, fig_filename='uk_mbike.png')\n",
    "sns.scatterplot()"
   ]
  },
  {
   "cell_type": "code",
   "execution_count": null,
   "id": "7f41986f",
   "metadata": {
    "scrolled": true
   },
   "outputs": [],
   "source": [
    "proj.visualize_top_ten_districts(mbike_acc, savefig=True, suffix='mbike',\n",
    "                                plot_title='Top Ten Districts with Fatal Motorbike Accidents',)"
   ]
  },
  {
   "cell_type": "code",
   "execution_count": null,
   "id": "9d1eb344",
   "metadata": {
    "scrolled": true
   },
   "outputs": [],
   "source": [
    "proj.visualize_top_ten_districts(mbike_acc, col='is_weekend', \n",
    "                                 plot_title='Top Ten Districts with Highest Weekend Motorbike Accidents',\n",
    "                                 savefig=True, suffix='mbike_wkend')"
   ]
  },
  {
   "cell_type": "code",
   "execution_count": null,
   "id": "e02dc75c",
   "metadata": {
    "scrolled": true
   },
   "outputs": [],
   "source": [
    "proj.visualize_top_ten_districts(mbike_acc, col='is_weekend', select_col_val=0,\n",
    "                                 plot_title='Top Ten Districts with Highest Weekday Motorbike Accidents',\n",
    "                                 savefig=True, suffix='mbike_wkday')"
   ]
  },
  {
   "cell_type": "markdown",
   "id": "96486960",
   "metadata": {},
   "source": [
    "### i. Significant Hours of  Day "
   ]
  },
  {
   "cell_type": "code",
   "execution_count": null,
   "id": "3e3cf77c",
   "metadata": {
    "scrolled": true
   },
   "outputs": [],
   "source": [
    "#### H1: hourly 21pm > 9am\n",
    "cols = ['hour', 'total_count']\n",
    "X2_name='Motorbike total accidents at 9am'\n",
    "X1_name='Motorbike total accidents at 21pm'\n",
    "\n",
    "#H1: friday > sunday monthly accidents\n",
    "# acc_df = proj.get_accidents_with_labels(accidents)\n",
    "proj.test_hypotheses(mbike_acc, agg_cols=cols, focus_col=cols[0], bigger_set_name=X1_name, \n",
    "                smaller_set_name=X2_name, bigger_set_vals=21,\n",
    "                smaller_set_vals=9,)\n",
    "#                second_condition_col=cols[2], second_condition_val=0, balance_unequal=False)"
   ]
  },
  {
   "cell_type": "code",
   "execution_count": null,
   "id": "96dedf5c",
   "metadata": {
    "scrolled": true
   },
   "outputs": [],
   "source": [
    "#### H1: weekly 9pm > 9am\n",
    "cols = ['week_num', 'hour', 'total_count']\n",
    "\n",
    "X2_name='Motorbike weekly accidents at 9am'\n",
    "X1_name='Motorbike weekly accidents at 21pm'\n",
    "\n",
    "#H1: friday > sunday monthly accidents\n",
    "# acc_df = proj.get_accidents_with_labels(accidents)\n",
    "proj.test_hypotheses(mbike_acc, agg_cols=cols, focus_col=cols[1], bigger_set_name=X1_name, \n",
    "                smaller_set_name=X2_name, bigger_set_vals=21,\n",
    "                smaller_set_vals=9,)\n",
    "#                second_condition_col=cols[2], second_condition_val=0, balance_unequal=False)"
   ]
  },
  {
   "cell_type": "code",
   "execution_count": null,
   "id": "a6593823",
   "metadata": {
    "scrolled": true
   },
   "outputs": [],
   "source": [
    "#### H1: monthly 12pm - 19pm > 0am - 7am\n",
    "cols = ['month', 'hour', 'total_count']\n",
    "X1_name='Motorbike monthly accidents between 12pm - 19pm'\n",
    "X2_name='Motorbike monthly accidents between 0am - 7am'\n",
    "\n",
    "#H1: friday > sunday monthly accidents\n",
    "# acc_df = proj.get_accidents_with_labels(accidents)\n",
    "proj.test_hypotheses(mbike_acc, agg_cols=cols, focus_col=cols[1], bigger_set_name=X1_name, \n",
    "                smaller_set_name=X2_name, bigger_set_vals=[12, 13, 14, 15, 16, 17, 18, 19],\n",
    "                smaller_set_vals=[0, 1, 2, 3, 4, 5, 6, 7],)\n",
    "#                second_condition_col=cols[2], second_condition_val=0, balance_unequal=False)"
   ]
  },
  {
   "cell_type": "code",
   "execution_count": null,
   "id": "1c00c2ce",
   "metadata": {
    "scrolled": true
   },
   "outputs": [],
   "source": [
    "#### H1: hourly 12pm - 19pm > 0am - 7am\n",
    "cols = ['hour', 'total_count']\n",
    "X1_name='Motorbike hourly accidents between 12pm - 19pm'\n",
    "X2_name='Motorbike hourly accidents between 0am - 7am'\n",
    "\n",
    "# acc_df = proj.get_accidents_with_labels(accidents)\n",
    "proj.test_hypotheses(mbike_acc, agg_cols=cols, focus_col=cols[0], bigger_set_name=X1_name, \n",
    "                smaller_set_name=X2_name, bigger_set_vals=[12, 13, 14, 15, 16, 17, 18, 19],\n",
    "                smaller_set_vals=[0, 1, 2, 3, 4, 5, 6, 7],)\n",
    "#                second_condition_col=cols[2], second_condition_val=0, balance_unequal=False)"
   ]
  },
  {
   "cell_type": "markdown",
   "id": "927463b3",
   "metadata": {},
   "source": [
    "#### H1: 8am - 11.59am > 20pm - 23.59pm"
   ]
  },
  {
   "cell_type": "code",
   "execution_count": null,
   "id": "ea1cb0a4",
   "metadata": {
    "scrolled": true
   },
   "outputs": [],
   "source": [
    "#### H1: total 8am - 11.59am > 20pm - 23.59pm\n",
    "cols = ['hour', 'total_count']\n",
    "\n",
    "proj.test_hypotheses(mbike_acc, agg_cols=cols, focus_col='hour',\n",
    "                bigger_set_name='Motorbike accidents between 8am - 11.59am',\n",
    "               smaller_set_name='Motorbike accidents between 20pm - 23.59pm',\n",
    "               bigger_set_vals=[8, 9, 10, 11], smaller_set_vals=[20, 21,22,23])"
   ]
  },
  {
   "cell_type": "code",
   "execution_count": null,
   "id": "63d058a7",
   "metadata": {
    "scrolled": true
   },
   "outputs": [],
   "source": [
    "#### H1: daily 8am - 11.59am > 20pm - 23.59pm\n",
    "cols = ['hour', 'month', 'total_count']\n",
    "\n",
    "proj.test_hypotheses(mbike_acc, agg_cols=cols, focus_col='hour',\n",
    "                bigger_set_name='Motorbike monthly accidents between 8am - 11.59am',\n",
    "               smaller_set_name='Motorbike monthly accidents between 20pm - 23.59pm',\n",
    "               bigger_set_vals=[8, 9, 10, 11], smaller_set_vals=[20, 21,22,23])"
   ]
  },
  {
   "cell_type": "markdown",
   "id": "35a0a672",
   "metadata": {},
   "source": [
    "### ii. Significant Days of Week "
   ]
  },
  {
   "cell_type": "markdown",
   "id": "633ab5cf",
   "metadata": {},
   "source": [
    "#### H1: Motorbike accidents on Thursdays-Fridays > Saturdays-Sundays"
   ]
  },
  {
   "cell_type": "code",
   "execution_count": null,
   "id": "9daffc19",
   "metadata": {
    "scrolled": true
   },
   "outputs": [],
   "source": [
    "# H1: total accidents on Thursday&Friday > Saturday&Sunday\n",
    "X1_name='Thursday_Friday'\n",
    "X2_name='Saturday_Sunday'\n",
    "cols = ['day_of_week', 'day_name', 'total_count']\n",
    "\n",
    "proj.test_hypotheses(mbike_acc, agg_cols=cols, focus_col=cols[1],\n",
    "                bigger_set_name=X1_name,\n",
    "               smaller_set_name=X2_name,\n",
    "               bigger_set_vals=['Thursday', 'Friday'], smaller_set_vals=['Saturday', 'Sunday'])"
   ]
  },
  {
   "cell_type": "markdown",
   "id": "ae932ae7",
   "metadata": {
    "scrolled": true
   },
   "source": [
    "#### H1: monthly accidents on Friday > Sunday"
   ]
  },
  {
   "cell_type": "code",
   "execution_count": null,
   "id": "03347947",
   "metadata": {
    "scrolled": true
   },
   "outputs": [],
   "source": [
    "# H1: total accidents on Friday > Sunday\n",
    "X1_name='Friday total'\n",
    "X2_name='Sunday total'\n",
    "cols = ['day_of_week', 'day_name', 'total_count']\n",
    "\n",
    "proj.test_hypotheses(mbike_acc, agg_cols=cols, focus_col=cols[1],\n",
    "                bigger_set_name=X1_name,\n",
    "               smaller_set_name=X2_name,\n",
    "               bigger_set_vals='Friday', smaller_set_vals='Sunday')"
   ]
  },
  {
   "cell_type": "code",
   "execution_count": null,
   "id": "9b25fcfa",
   "metadata": {
    "scrolled": true
   },
   "outputs": [],
   "source": [
    "# H1: monthly accidents on Friday > Sunday\n",
    "X1_name='Friday monthly'\n",
    "X2_name='Sunday monthly'\n",
    "cols = ['month', 'day_of_week', 'day_name', 'total_count']\n",
    "\n",
    "proj.test_hypotheses(mbike_acc, agg_cols=cols, focus_col=cols[2],\n",
    "                bigger_set_name=X1_name,\n",
    "               smaller_set_name=X2_name,\n",
    "               bigger_set_vals='Friday', smaller_set_vals='Sunday')"
   ]
  },
  {
   "cell_type": "markdown",
   "id": "952290a5",
   "metadata": {},
   "source": [
    "#### H1: Motorbike accidents on Weekdays > Weekends"
   ]
  },
  {
   "cell_type": "code",
   "execution_count": null,
   "id": "90157165",
   "metadata": {
    "scrolled": true
   },
   "outputs": [],
   "source": [
    "# H1: monthly accidents per weekday > weekend\n",
    "cols = ['month', 'is_weekend', 'total_count']\n",
    "X1_name='Weekday monthly'\n",
    "X2_name='Weekend monthly'\n",
    "\n",
    "proj.test_hypotheses(mbike_acc, agg_cols=cols, focus_col=cols[1],\n",
    "                bigger_set_name=X1_name,\n",
    "               smaller_set_name=X2_name,\n",
    "               bigger_set_vals=0, smaller_set_vals=1)"
   ]
  },
  {
   "cell_type": "code",
   "execution_count": null,
   "id": "dc7af794",
   "metadata": {
    "scrolled": true
   },
   "outputs": [],
   "source": [
    "# H1: weekly accidents per weekday > weekend\n",
    "cols = ['week_num', 'is_weekend', 'total_count']\n",
    "X1_name='Weekday weekly'\n",
    "X2_name='Weekend weekly'\n",
    "\n",
    "proj.test_hypotheses(mbike_acc, agg_cols=cols, focus_col=cols[1],\n",
    "                bigger_set_name=X1_name,\n",
    "               smaller_set_name=X2_name,\n",
    "               bigger_set_vals=0, smaller_set_vals=1)"
   ]
  },
  {
   "cell_type": "markdown",
   "id": "bd053b6c",
   "metadata": {},
   "source": [
    "#### H1: summertime Friday-Saturdays accidents > winter Friday-Saturdays"
   ]
  },
  {
   "cell_type": "code",
   "execution_count": null,
   "id": "3acad1b3",
   "metadata": {
    "scrolled": true
   },
   "outputs": [],
   "source": [
    "cols = ['season', 'week_num', 'day_name', 'total_count']\n",
    "X1_name='Summer weekly Weekend'\n",
    "X2_name='Winter weekly Weekend'\n",
    "\n",
    "mbike_df = proj.get_accidents_with_labels(mbike_acc)\n",
    "proj.test_hypotheses(mbike_df, agg_cols=cols, focus_col=cols[0],\n",
    "                bigger_set_name=X1_name,\n",
    "               smaller_set_name=X2_name,\n",
    "               bigger_set_vals='summer', smaller_set_vals='winter',\n",
    "                     second_condition_col=cols[2], second_condition_val=['Friday', 'Saturday'], balance_unequal=False)"
   ]
  },
  {
   "cell_type": "markdown",
   "id": "245d898c",
   "metadata": {},
   "source": [
    "#### H1: summertime weekday accidents > weekday"
   ]
  },
  {
   "cell_type": "code",
   "execution_count": null,
   "id": "55ca2a8a",
   "metadata": {
    "scrolled": true
   },
   "outputs": [],
   "source": [
    "cols = ['season', 'week_num', 'day_name', 'total_count']\n",
    "X1_name='Summer weekly Weekend'\n",
    "X2_name='Winter weekly Weekend'\n",
    "\n",
    "mbike_df = proj.get_accidents_with_labels(mbike_acc)\n",
    "proj.test_hypotheses(mbike_df, agg_cols=cols, focus_col=cols[0],\n",
    "                bigger_set_name=X1_name,\n",
    "               smaller_set_name=X2_name,\n",
    "               bigger_set_vals='summer', smaller_set_vals='winter',\n",
    "                     second_condition_col=cols[2], second_condition_val=['Saturday'], balance_unequal=False)"
   ]
  },
  {
   "cell_type": "markdown",
   "id": "92e49ffa",
   "metadata": {},
   "source": [
    "## c) FOR PEDESTRIANS"
   ]
  },
  {
   "cell_type": "code",
   "execution_count": null,
   "id": "a57d3b02",
   "metadata": {
    "scrolled": true
   },
   "outputs": [],
   "source": [
    "ped_acc = proj.get_pedestrian_accidents(accidents)\n",
    "# ped_acc"
   ]
  },
  {
   "cell_type": "markdown",
   "id": "4f3a5209",
   "metadata": {},
   "source": [
    "#### Visualize Trends"
   ]
  },
  {
   "cell_type": "code",
   "execution_count": null,
   "id": "958b3f63",
   "metadata": {},
   "outputs": [],
   "source": [
    "proj.plot_accident_map(accidents, ped_acc, plot_title='UK 2019 Accidents Involving Pedestrians',\n",
    "                       alpha=None, savefig=True, fig_filename='uk_pedestrian_acc.png')"
   ]
  },
  {
   "cell_type": "code",
   "execution_count": null,
   "id": "aab59ee9",
   "metadata": {
    "scrolled": true
   },
   "outputs": [],
   "source": [
    "proj.visualize_top_ten_districts(ped_acc, col='casualty_severity', select_col_val=1,\n",
    "                                suffix='ped_fatal', plot_title='Top Ten Districts With Highest Pedestrian Fatality',\n",
    "                                savefig=True)"
   ]
  },
  {
   "cell_type": "code",
   "execution_count": null,
   "id": "e2f064dc",
   "metadata": {
    "scrolled": true
   },
   "outputs": [],
   "source": [
    "proj.visualize_top_ten_districts(ped_acc, col='is_weekend', select_col_val=1,\n",
    "                                suffix='ped_fatal', \n",
    "                                 plot_title='Top Ten Districts With Highest Weekend Accidents for Pedestrians',\n",
    "                                savefig=True)"
   ]
  },
  {
   "cell_type": "code",
   "execution_count": null,
   "id": "11521c54",
   "metadata": {
    "scrolled": true
   },
   "outputs": [],
   "source": [
    "proj.visualize_top_ten_districts(ped_acc, col='season', select_col_val='summer',\n",
    "                                suffix='ped_ssn', \n",
    "                                 plot_title='Top Ten Districts With Highest Summer Accidents for Pedestrians',\n",
    "                                savefig=True)"
   ]
  },
  {
   "cell_type": "code",
   "execution_count": null,
   "id": "2c6caf54",
   "metadata": {},
   "outputs": [],
   "source": [
    "proj.visualize_trends(ped_acc, 'pedestrians')"
   ]
  },
  {
   "cell_type": "code",
   "execution_count": null,
   "id": "8fe839b5",
   "metadata": {},
   "outputs": [],
   "source": [
    "proj.seasonal_observations(ped_acc, suffix='ped_ssn')"
   ]
  },
  {
   "cell_type": "markdown",
   "id": "5f3cd5b2",
   "metadata": {},
   "source": [
    "### i. Significant Hours of  Day"
   ]
  },
  {
   "cell_type": "markdown",
   "id": "7df5b47a",
   "metadata": {},
   "source": [
    "#### H1: 12pm - 19pm > 0am - 7am"
   ]
  },
  {
   "cell_type": "code",
   "execution_count": null,
   "id": "65e89d9a",
   "metadata": {
    "scrolled": true
   },
   "outputs": [],
   "source": [
    "cols = ['hour', 'total_count']\n",
    "X1_name='pedestrian accidents between 12pm - 19pm'\n",
    "X2_name='pedestrian accidents between 0am - 7'\n",
    "\n",
    "ped_df = proj.get_accidents_with_labels(ped_acc)\n",
    "proj.test_hypotheses(ped_df, agg_cols=cols, focus_col=cols[0],\n",
    "                bigger_set_name=X1_name,\n",
    "               smaller_set_name=X2_name,\n",
    "               bigger_set_vals=[12, 13, 14, 15, 16, 17, 18, 19], smaller_set_vals=[0, 1, 2, 3, 4, 5, 6, 7],)\n",
    "#                      second_condition_col=cols[2], second_condition_val=['Saturday'], balance_unequal=False)"
   ]
  },
  {
   "cell_type": "markdown",
   "id": "eeb71d08",
   "metadata": {},
   "source": [
    "#### H1: 8am - 11.59am > 20pm - 23.59pm"
   ]
  },
  {
   "cell_type": "code",
   "execution_count": null,
   "id": "f34f62cb",
   "metadata": {
    "scrolled": true
   },
   "outputs": [],
   "source": [
    "cols = ['hour', 'total_count']\n",
    "X1_name='pedestrian accidents between 8am - 11.59am'\n",
    "X2_name='pedestrian accidents between 20pm - 23.59pm'\n",
    "\n",
    "# ped_df = proj.get_accidents_with_labels(ped_acc)\n",
    "proj.test_hypotheses(ped_acc, agg_cols=cols, focus_col=cols[0],\n",
    "                bigger_set_name=X1_name,\n",
    "               smaller_set_name=X2_name,\n",
    "               bigger_set_vals=[8, 9, 10, 11], smaller_set_vals=[20, 21, 22, 23],)\n",
    "#                      second_condition_col=cols[2], second_condition_val=['Saturday'], balance_unequal=False)"
   ]
  },
  {
   "cell_type": "markdown",
   "id": "be44ee3b",
   "metadata": {},
   "source": [
    "### ii. Significant Days of Week "
   ]
  },
  {
   "cell_type": "code",
   "execution_count": null,
   "id": "24ad9c77",
   "metadata": {},
   "outputs": [],
   "source": [
    "# total per day of week\n",
    "cols = ['day_of_week', 'day_name', 'total_count']\n",
    "total_acc_dow = general_agg_ped[cols].groupby(cols[:-1]).sum().reset_index()\n",
    "total_acc_dow"
   ]
  },
  {
   "cell_type": "markdown",
   "id": "e03e1ea5",
   "metadata": {},
   "source": [
    "#### H1: Pedestrian accidents on Thursdays-Fridays > Saturdays-Sundays"
   ]
  },
  {
   "cell_type": "code",
   "execution_count": null,
   "id": "434d328a",
   "metadata": {
    "scrolled": true
   },
   "outputs": [],
   "source": [
    "cols = ['day_of_week', 'day_name', 'total_count']\n",
    "X1_name='pedestrian accidents on  Thursdays-Fridays'\n",
    "X2_name='pedestrian accidents on Saturdays-Sundays'\n",
    "\n",
    "# ped_df = proj.get_accidents_with_labels(ped_acc)\n",
    "proj.test_hypotheses(ped_acc, agg_cols=cols, focus_col=cols[1],\n",
    "                bigger_set_name=X1_name,\n",
    "               smaller_set_name=X2_name,\n",
    "               bigger_set_vals=['Thursday', 'Friday'], smaller_set_vals=['Saturday', 'Sunday'],)\n",
    "#                      second_condition_col=cols[2], second_condition_val=['Saturday'], balance_unequal=False)"
   ]
  },
  {
   "cell_type": "markdown",
   "id": "dff0978c",
   "metadata": {},
   "source": [
    "#### H1: Pedestrian accidents on Weekdays > Weekends"
   ]
  },
  {
   "cell_type": "code",
   "execution_count": null,
   "id": "a178e789",
   "metadata": {
    "scrolled": true
   },
   "outputs": [],
   "source": [
    "cols = ['week_num', 'is_weekend', 'total_count']\n",
    "X1_name='pedestrian accidents on  weekdays'\n",
    "X2_name='pedestrian accidents on weekends'\n",
    "\n",
    "# ped_df = proj.get_accidents_with_labels(ped_acc)\n",
    "proj.test_hypotheses(ped_acc, agg_cols=cols, focus_col=cols[1],\n",
    "                bigger_set_name=X1_name,\n",
    "               smaller_set_name=X2_name,\n",
    "               bigger_set_vals=0, smaller_set_vals=1,)\n",
    "#                      second_condition_col=cols[2], second_condition_val=['Saturday'], balance_unequal=False)"
   ]
  },
  {
   "cell_type": "code",
   "execution_count": null,
   "id": "eaee2d73",
   "metadata": {
    "scrolled": true
   },
   "outputs": [],
   "source": [
    "cols = ['month', 'month_name','day_of_week', 'day_name', 'total_count']\n",
    "agg_df = proj.generate_aggregated_lookup(ped_acc)\n",
    "agg_df = agg_df[cols].groupby(cols[:-1]).sum().reset_index()\n",
    "proj.plot_bar(agg_df[cols[-1]], agg_df[cols[1]], agg_df[cols[3]], annotate=True,\n",
    "             plot_title='Monthly Pedestrian Accidents per Part of Day',\n",
    "             paletter={'Sunday': 'green', 'Monday': 'blue', 'Tuesday': 'yellow', 'Wednesday': 'darkorange',\n",
    "                       'Thursday': 'red', 'Friday': 'black', 'Saturday': 'gray'}, figsize=(10, 18),\n",
    "              savefig=True, fig_filename='rlship_mon_pod_ped.png')"
   ]
  },
  {
   "cell_type": "code",
   "execution_count": null,
   "id": "6adff58d",
   "metadata": {
    "scrolled": true
   },
   "outputs": [],
   "source": [
    "cols = ['month', 'is_weekend', 'total_count']\n",
    "X1_name='pedestrian accidents on  weekdays'\n",
    "X2_name='pedestrian accidents on weekends'\n",
    "\n",
    "# ped_df = proj.get_accidents_with_labels(ped_acc)\n",
    "proj.test_hypotheses(ped_acc, agg_cols=cols, focus_col=cols[1],\n",
    "                bigger_set_name=X1_name,\n",
    "               smaller_set_name=X2_name,\n",
    "               bigger_set_vals=0, smaller_set_vals=1,)\n",
    "#                      second_condition_col=cols[2], second_condition_val=['Saturday'], balance_unequal=False)"
   ]
  },
  {
   "cell_type": "code",
   "execution_count": null,
   "id": "2a295453",
   "metadata": {
    "scrolled": true
   },
   "outputs": [],
   "source": [
    "# H1: autumn weekly friday > winter friday\n",
    "cols = ['week_num', 'day_name', 'season', 'total_count']\n",
    "X1_name='pedestrian autumn accidents on fridays'\n",
    "X2_name='pedestrian winter accidents on fridays'\n",
    "\n",
    "# ped_df = proj.get_accidents_with_labels(ped_acc)\n",
    "proj.test_hypotheses(ped_acc, agg_cols=cols, focus_col=cols[2],\n",
    "                bigger_set_name=X1_name,\n",
    "               smaller_set_name=X2_name,\n",
    "               bigger_set_vals='autumn', smaller_set_vals='winter',\n",
    "                     second_condition_col=cols[1], second_condition_val=['Friday'], balance_unequal=False)"
   ]
  },
  {
   "cell_type": "code",
   "execution_count": null,
   "id": "3122a441",
   "metadata": {
    "scrolled": true
   },
   "outputs": [],
   "source": [
    "# H1: autumn monthly friday > winter friday\n",
    "cols = ['month_name', 'day_name', 'season', 'total_count']\n",
    "X1_name='pedestrian autumn accidents on fridays'\n",
    "X2_name='pedestrian winter accidents on fridays'\n",
    "\n",
    "# ped_df = proj.get_accidents_with_labels(ped_acc)\n",
    "proj.test_hypotheses(ped_acc, agg_cols=cols, focus_col=cols[2],\n",
    "                bigger_set_name=X1_name,\n",
    "               smaller_set_name=X2_name,\n",
    "               bigger_set_vals='autumn', smaller_set_vals='winter',\n",
    "                     second_condition_col=cols[1], second_condition_val=['Friday'], balance_unequal=False)"
   ]
  },
  {
   "cell_type": "markdown",
   "id": "f4d82ade",
   "metadata": {},
   "source": [
    "## d) IMPACT OF DAYLIGHT SAVINGS ON ACCIDENTS\n",
    "2019 Daylight Saving Time (DST) = 1am March 31 to 2am October 27"
   ]
  },
  {
   "cell_type": "code",
   "execution_count": null,
   "id": "8be88e80",
   "metadata": {
    "scrolled": true
   },
   "outputs": [],
   "source": [
    "dst_acc = proj.get_accidents_when(accidents, 'is_dst', 1)\n",
    "# dst_acc"
   ]
  },
  {
   "cell_type": "markdown",
   "id": "a06b2a9c",
   "metadata": {},
   "source": [
    "#### Visualize Trends"
   ]
  },
  {
   "cell_type": "code",
   "execution_count": null,
   "id": "5c030aff",
   "metadata": {
    "scrolled": true
   },
   "outputs": [],
   "source": [
    "cols = ['month', 'month_name','day_of_week', 'day_name', 'total_count']\n",
    "agg_df = proj.generate_aggregated_lookup(dst_acc)\n",
    "agg_df = agg_df[cols].groupby(cols[:-1]).sum().reset_index()\n",
    "proj.plot_bar(agg_df[cols[-1]], agg_df[cols[1]], agg_df[cols[3]], annotate=True,\n",
    "             plot_title='Monthly DST Accidents per Part of Day',\n",
    "             paletter={'Sunday': 'green', 'Monday': 'blue', 'Tuesday': 'yellow', 'Wednesday': 'darkorange',\n",
    "                       'Thursday': 'red', 'Friday': 'black', 'Saturday': 'gray'}, figsize=(10, 18),\n",
    "              savefig=True, fig_filename='rlship_mon_pod_dst.png')"
   ]
  },
  {
   "cell_type": "code",
   "execution_count": null,
   "id": "a0ea829b",
   "metadata": {
    "scrolled": true
   },
   "outputs": [],
   "source": [
    "proj.visualize_top_ten_districts(dst_acc, select_col_val=1, suffix='dst_fatal',\n",
    "                                 plot_title='Top Ten Districts with Higest Casualty Fatality During DST', \n",
    "                                savefig=True)"
   ]
  },
  {
   "cell_type": "code",
   "execution_count": null,
   "id": "1aca9bc0",
   "metadata": {
    "scrolled": true
   },
   "outputs": [],
   "source": [
    "proj.visualize_top_ten_districts(dst_acc, col='is_weekend', select_col_val=1, suffix='dst_wkend',\n",
    "                                 plot_title='Top Ten Districts with Higest Weekend Accidents During DST',\n",
    "                                savefig=True)"
   ]
  },
  {
   "cell_type": "code",
   "execution_count": null,
   "id": "9db6f877",
   "metadata": {
    "scrolled": true
   },
   "outputs": [],
   "source": [
    "proj.visualize_top_ten_districts(dst_acc, col='is_weekend', select_col_val=0, suffix='dst_wkday',\n",
    "                                 plot_title='Top Ten Districts with Higest Weekday Accidents During DST',\n",
    "                                savefig=True)"
   ]
  },
  {
   "cell_type": "code",
   "execution_count": null,
   "id": "9e2d889d",
   "metadata": {},
   "outputs": [],
   "source": [
    "proj.visualize_trends(dst_acc, 'Daylight Savings Time')"
   ]
  },
  {
   "cell_type": "markdown",
   "id": "46fef7be",
   "metadata": {},
   "source": [
    "#### COMPARING FIRST WEEK OF DST TO WEEK BEFORE DST"
   ]
  },
  {
   "cell_type": "markdown",
   "id": "963ebb85",
   "metadata": {},
   "source": [
    "impact plan:\n",
    "1. select accidents for period (week_num, day_num, etc.)\n",
    "2. groupby day_name and hour\n",
    "3. pyramid, difference plot\n",
    "4. test for significance"
   ]
  },
  {
   "cell_type": "markdown",
   "id": "220e8d48",
   "metadata": {},
   "source": [
    "#### The week (7 days) BEFORE the start of DST\n",
    "1am 24-3-2019 to 0am 31-3-2019"
   ]
  },
  {
   "cell_type": "code",
   "execution_count": null,
   "id": "95c82966",
   "metadata": {
    "scrolled": true
   },
   "outputs": [],
   "source": [
    "dst_first_week = proj.dst_first_week(accidents)\n",
    "display(dst_first_week)\n",
    "wk_before_dst = proj.dst_prior_week(accidents)\n",
    "display(wk_before_dst)"
   ]
  },
  {
   "cell_type": "code",
   "execution_count": null,
   "id": "dfaffb34",
   "metadata": {},
   "outputs": [],
   "source": [
    "print(dst_first_week['week_num'].unique(), wk_before_dst['week_num'].unique())"
   ]
  },
  {
   "cell_type": "code",
   "execution_count": null,
   "id": "ad93a96d",
   "metadata": {
    "scrolled": true
   },
   "outputs": [],
   "source": [
    "cols = ['day_of_week', 'day_name', 'hour']\n",
    "general_agg_wk_before_dst = proj.generate_aggregated_lookup(wk_before_dst, cols)\n",
    "# display(general_agg_wk_before_dst)\n",
    "\n",
    "# hourly comparisons\n",
    "cols = ['hour', 'total_count']\n",
    "week_bf_hr = general_agg_wk_before_dst[cols].groupby(cols[:-1]).sum().sort_index().reset_index()\n",
    "# display(week_bf_hr)\n",
    "\n",
    "# hourly comparisons\n",
    "cols = ['hour', 'total_count']\n",
    "dst_wk1_hr = general_agg_wk1[cols].groupby(cols[:-1]).sum().sort_index().reset_index()\n",
    "# dst_wk1_hr\n",
    "\n",
    "proj.plot_pyramid(week_bf_hr['total_count'], dst_wk1_hr['total_count'],\n",
    "          plot_title='Comparison of Week Before & First Week of DST', \n",
    "          left_legend='Week Before DST', right_legend='DST First Week', left_labe_shift=350,\n",
    "            savefig=True, fig_filename='pyramid_dst_wk1.png')"
   ]
  },
  {
   "cell_type": "code",
   "execution_count": null,
   "id": "d021a6a5",
   "metadata": {
    "scrolled": true
   },
   "outputs": [],
   "source": [
    "proj.plot_diff(week_bf_hr['total_count'], dst_wk1_hr['total_count'],\n",
    "          plot_title='Differences in Week Before Vs. 1st Week of DST', \n",
    "          left_legend='DST Prior Week', right_legend='DST First Week', left_labe_shift=35,\n",
    "         savefig=True, fig_filename='diff_dst_wk1.png')"
   ]
  },
  {
   "cell_type": "code",
   "execution_count": null,
   "id": "72808748",
   "metadata": {},
   "outputs": [],
   "source": [
    "proj.visualize_trends(wk_before_dst, 'wk_before_dst')"
   ]
  },
  {
   "cell_type": "code",
   "execution_count": null,
   "id": "67bc0abb",
   "metadata": {},
   "outputs": [],
   "source": [
    "proj.visualize_trends(dst_first_week, 'dst week 1')"
   ]
  },
  {
   "cell_type": "markdown",
   "id": "c6a2e08b",
   "metadata": {},
   "source": [
    "#### Hypothesis Testing for impact"
   ]
  },
  {
   "cell_type": "markdown",
   "id": "98806c48",
   "metadata": {},
   "source": [
    "**H1: 24-hour accidents in the week before DST > DST week 1**"
   ]
  },
  {
   "cell_type": "code",
   "execution_count": null,
   "id": "f89b9276",
   "metadata": {
    "scrolled": true
   },
   "outputs": [],
   "source": [
    "# display(week_bf_hr)\n",
    "# display(dst_wk1_hr)\n",
    "\n",
    "proj.report_a_significance(week_bf_hr['total_count'], dst_wk1_hr['total_count'],\n",
    "                           X1_name='Week Before DST Hourly total',\n",
    "                          X2_name='DST Hourly total')"
   ]
  },
  {
   "cell_type": "markdown",
   "id": "f7974186",
   "metadata": {},
   "source": [
    "**H1: 9am - 16.59pm accidents in the week BEFORE dst > in dst wk 1**"
   ]
  },
  {
   "cell_type": "code",
   "execution_count": null,
   "id": "d93fd5f6",
   "metadata": {
    "scrolled": true
   },
   "outputs": [],
   "source": [
    "selected_hrs = [9, 10, 11, 12, 13, 14, 15, 16]\n",
    "wk_bf_9_16 = proj.get_accidents_when(week_bf_hr, 'hour', selected_hrs)\n",
    "# display(wk_bf_9_16)\n",
    "dst_wk1_9_16 = proj.get_accidents_when(dst_wk1_hr, 'hour', selected_hrs)\n",
    "# display(dst_wk1_9_16)\n",
    "\n",
    "proj.report_a_significance(wk_bf_9_16['total_count'], dst_wk1_9_16['total_count'],\n",
    "                           X1_name='Week Before DST 9am - 16.59pm',\n",
    "                          X2_name='DST Week 1 9am - 16.59pm')"
   ]
  },
  {
   "cell_type": "markdown",
   "id": "2f231a7e",
   "metadata": {},
   "source": [
    "**H1: 9am - 11.59pm accidents in the week BEFORE dst > in dst wk 1**"
   ]
  },
  {
   "cell_type": "code",
   "execution_count": null,
   "id": "24f53f66",
   "metadata": {
    "scrolled": true
   },
   "outputs": [],
   "source": [
    "selected_hrs = [9, 10, 11]\n",
    "wk_bf_9_11 = proj.get_accidents_when(week_bf_hr, 'hour', selected_hrs)\n",
    "# display(wk_bf_9_11)\n",
    "dst_wk1_9_11 = proj.get_accidents_when(dst_wk1_hr, 'hour', selected_hrs)\n",
    "# display(dst_wk1_9_11)\n",
    "\n",
    "proj.report_a_significance(wk_bf_9_11['total_count'], dst_wk1_9_11['total_count'],\n",
    "                           X1_name='Week Before DST 9am - 11.59pm',\n",
    "                          X2_name='DST Week 1 9am - 11.59pm')"
   ]
  },
  {
   "cell_type": "markdown",
   "id": "81ac3b5d",
   "metadata": {},
   "source": [
    "**H1: 19pm - 21.59pm accidents in the week BEFORE dst > in dst wk 1**"
   ]
  },
  {
   "cell_type": "code",
   "execution_count": null,
   "id": "f4a27e0f",
   "metadata": {
    "scrolled": true
   },
   "outputs": [],
   "source": [
    "selected_hrs = [19, 20, 21]\n",
    "wk_bf_9_11 = proj.get_accidents_when(week_bf_hr, 'hour', selected_hrs)\n",
    "# display(wk_bf_9_11)\n",
    "dst_wk1_9_11 = proj.get_accidents_when(dst_wk1_hr, 'hour', selected_hrs)\n",
    "# display(dst_wk1_9_11)\n",
    "\n",
    "proj.report_a_significance(wk_bf_9_11['total_count'], dst_wk1_9_11['total_count'],\n",
    "                           X1_name='Week Before DST 9am - 11.59pm',\n",
    "                          X2_name='DST Week 1 9am - 11.59pm')"
   ]
  },
  {
   "cell_type": "markdown",
   "id": "fa18dffb",
   "metadata": {},
   "source": [
    "**H1: 5am - 5.59am accidents in the week BEFORE dst > in dst wk 1**"
   ]
  },
  {
   "cell_type": "code",
   "execution_count": null,
   "id": "b6cf698e",
   "metadata": {
    "scrolled": true
   },
   "outputs": [],
   "source": [
    "cols = ['day_num', 'hour', 'total_count']\n",
    "week_bf_hr = general_agg_wk_before_dst[cols].groupby(cols[:-1]).sum().reset_index()\n",
    "# display(week_bf_hr)\n",
    "wk_bf_5am = proj.get_accidents_when(week_bf_hr, 'hour', 5)\n",
    "# display(wk_bf_5am)\n",
    "dst_wk1_hr = general_agg_wk1[cols].groupby(cols[:-1]).sum().reset_index()\n",
    "dst_wk1_5am = proj.get_accidents_when(dst_wk1_hr, 'hour', 5)\n",
    "# display(dst_wk1_5am)\n",
    "\n",
    "proj.report_a_significance(dst_wk1_5am['total_count'], wk_bf_5am['total_count'],\n",
    "                           X2_name='Week Before DST 5am',\n",
    "                          X1_name='DST Week 1 5am')"
   ]
  },
  {
   "cell_type": "markdown",
   "id": "aaa8c50e",
   "metadata": {},
   "source": [
    "**H1: 18pm - 18.59pm accidents in the week BEFORE dst > in dst wk 1**"
   ]
  },
  {
   "cell_type": "code",
   "execution_count": null,
   "id": "7cda4baf",
   "metadata": {
    "scrolled": true
   },
   "outputs": [],
   "source": [
    "week_bf_hr = general_agg_wk_before_dst[cols].groupby(cols[:-1]).sum().reset_index()\n",
    "wk_bf_18pm = proj.get_accidents_when(week_bf_hr, 'hour', 18)\n",
    "# display(wk_bf_18pm)\n",
    "dst_wk1_hr = general_agg_wk1[cols].groupby(cols[:-1]).sum().reset_index()\n",
    "dst_wk1_18pm = proj.get_accidents_when(dst_wk1_hr, 'hour', 18)\n",
    "# display(dst_wk1_18pm)\n",
    "\n",
    "proj.report_a_significance(dst_wk1_18pm['total_count'], wk_bf_18pm['total_count'],\n",
    "                           X2_name='Week Before DST 18pm',\n",
    "                          X1_name='DST Week 1 18pm')"
   ]
  },
  {
   "cell_type": "code",
   "execution_count": null,
   "id": "0a9a76de",
   "metadata": {
    "scrolled": true
   },
   "outputs": [],
   "source": [
    "# dst hourly average\n",
    "cols = ['day_num', 'hour', 'total_count']\n",
    "day_hr_count = proj.generate_aggregated_lookup(dst_acc, cols[:-1])\n",
    "# display(day_hr_count)\n",
    "dst_avg_hr = day_hr_count[cols].groupby(cols[1]).mean()\n",
    "# display(dst_avg_hr)"
   ]
  },
  {
   "cell_type": "markdown",
   "id": "b3ab60b9",
   "metadata": {},
   "source": [
    "#### The week (7 days) AFTER DST\n",
    "3am 27-10-2019 to 2am 3-11-2019"
   ]
  },
  {
   "cell_type": "code",
   "execution_count": null,
   "id": "d60fc1d5",
   "metadata": {
    "scrolled": true
   },
   "outputs": [],
   "source": [
    "week_aft_dst = proj.week_after_dst(accidents)\n",
    "# week_aft_dst"
   ]
  },
  {
   "cell_type": "code",
   "execution_count": null,
   "id": "17912e01",
   "metadata": {},
   "outputs": [],
   "source": [
    "proj.visualize_trends(week_aft_dst, 'Week_after_dst')"
   ]
  },
  {
   "cell_type": "code",
   "execution_count": null,
   "id": "c9199d24",
   "metadata": {},
   "outputs": [],
   "source": [
    "dst_last_wk = proj.dst_last_week(accidents)\n",
    "# dst_last_wk"
   ]
  },
  {
   "cell_type": "code",
   "execution_count": null,
   "id": "b61d3af8",
   "metadata": {},
   "outputs": [],
   "source": [
    "proj.visualize_trends(dst_last_wk, 'DST Last Week')"
   ]
  },
  {
   "cell_type": "code",
   "execution_count": null,
   "id": "2147652d",
   "metadata": {
    "scrolled": true
   },
   "outputs": [],
   "source": [
    "# hourly comparisons\n",
    "cols = ['hour', 'total_count']\n",
    "total_dst_lastwk_hr = proj.generate_aggregated_lookup(dst_last_wk)[cols].groupby(cols[:-1]).sum().reset_index()\n",
    "# display(total_dst_lastwk_hr)\n",
    "# \n",
    "wk_after_hr = proj.generate_aggregated_lookup(week_aft_dst)[cols].groupby(cols[:-1]).sum().reset_index()\n",
    "# display(wk_after_hr)"
   ]
  },
  {
   "cell_type": "code",
   "execution_count": null,
   "id": "d2ce10e8",
   "metadata": {
    "scrolled": true
   },
   "outputs": [],
   "source": [
    "proj.plot_pyramid(total_dst_lastwk_hr['total_count'], wk_after_hr['total_count'], left_legend='DST LAST WEEK', right_legend='WEEK AFTER DST',\n",
    "              left_labe_shift=350, plot_title='COMPARISON OF DST LAST WEEK VS WEEK AFTER DST', #xlim=(-300, 300),\n",
    "               savefig=True, fig_filename='pyramid_dst_last_after.png')"
   ]
  },
  {
   "cell_type": "code",
   "execution_count": null,
   "id": "41de22c2",
   "metadata": {
    "scrolled": true
   },
   "outputs": [],
   "source": [
    "proj.plot_diff(total_dst_lastwk_hr['total_count'], wk_after_hr['total_count'], left_legend='DST LAST WEEK', right_legend='WEEK AFTER DST',\n",
    "              left_labe_shift=200, plot_title='DIFFERENCES IN DST LAST WEEK VS WEEK AFTER DST', xlim=(-300, 300),\n",
    "               savefig=True, fig_filename='diff_dst_last_after.png')"
   ]
  },
  {
   "cell_type": "markdown",
   "id": "532e7d8b",
   "metadata": {},
   "source": [
    "**H1: 24-hour accidents in the week after DST > last week of DST**"
   ]
  },
  {
   "cell_type": "code",
   "execution_count": null,
   "id": "7c1298fe",
   "metadata": {
    "scrolled": true
   },
   "outputs": [],
   "source": [
    "proj.report_a_significance(wk_after_hr['total_count'], total_dst_lastwk_hr['total_count'], \n",
    "                          X2_name='Last Week of DST', X1_name='Week After DST')"
   ]
  },
  {
   "cell_type": "markdown",
   "id": "126c900e",
   "metadata": {},
   "source": [
    "**H1: 7am – 12.59pm accidents in the week after DST > the last week of DST**"
   ]
  },
  {
   "cell_type": "code",
   "execution_count": null,
   "id": "c5ba8f70",
   "metadata": {
    "scrolled": true
   },
   "outputs": [],
   "source": [
    "cols = ['day_num', 'hour', 'total_count']\n",
    "\n",
    "selected_hrs = [7, 8, 9, 10, 11, 12]\n",
    "lastwk_am_7_12 = proj.get_accidents_when(total_dst_lastwk_hr, 'hour', selected_hrs)\n",
    "# display(lastwk_am_7_12)\n",
    "wkafter_am_7_12 = proj.get_accidents_when(wk_after_hr, 'hour', selected_hrs)\n",
    "# display(wkafter_am_7_12)\n",
    "proj.report_a_significance(wkafter_am_7_12['total_count'], lastwk_am_7_12['total_count'], X1_name='Week After', X2_name='DST Last Week')"
   ]
  },
  {
   "cell_type": "markdown",
   "id": "37cd7aa0",
   "metadata": {},
   "source": [
    "**H1: 17pm - 17.59pm accidents in the week after DST > the last week of DST**"
   ]
  },
  {
   "cell_type": "code",
   "execution_count": null,
   "id": "06a5f660",
   "metadata": {
    "scrolled": true
   },
   "outputs": [],
   "source": [
    "selected_hrs = [17]#, 8, 9, 10, 11, 12]\n",
    "\n",
    "lastwk_pm_17 = proj.get_accidents_when(total_dst_lastwk_hr, 'hour', selected_hrs)\n",
    "# display(lastwk_pm_17)\n",
    "# wkafter_pm_17 = proj.get_accidents_when(wk_after_hr, 'hour', selected_hrs)\n",
    "display(wkafter_pm_17)\n",
    "proj.report_a_significance(wkafter_pm_17['total_count'], lastwk_pm_17['total_count'], X1_name='Week After', X2_name='DST Last Week')"
   ]
  },
  {
   "cell_type": "code",
   "execution_count": null,
   "id": "087e5daf",
   "metadata": {
    "scrolled": true
   },
   "outputs": [],
   "source": [
    "cols = ['hour', 'day_num', 'total_count']\n",
    "total_lastwk_hr = proj.generate_aggregated_lookup(dst_last_wk)\n",
    "# display(total_lastwk_hr)\n",
    "\n",
    "total_dst_lastwk_hr = total_lastwk_hr[cols].groupby(cols[:-1]).sum().reset_index()\n",
    "# display(total_dst_lastwk_hr)\n",
    "\n",
    "total_wk_after_hr = proj.generate_aggregated_lookup(week_aft_dst)\n",
    "wk_after_hr = total_wk_after_hr[cols].groupby(cols[:-1]).sum().reset_index()\n",
    "# display(wk_after_hr)"
   ]
  },
  {
   "cell_type": "code",
   "execution_count": null,
   "id": "23462615",
   "metadata": {
    "scrolled": true
   },
   "outputs": [],
   "source": [
    "# weekly 17pm - 17.59pm\n",
    "\n",
    "selected_hrs = [17]#, 8, 9, 10, 11, 12]\n",
    "\n",
    "lastwk_pm_17 = proj.get_accidents_when(total_dst_lastwk_hr, 'hour', selected_hrs)\n",
    "# display(lastwk_pm_17)\n",
    "wkafter_pm_17 = proj.get_accidents_when(wk_after_hr, 'hour', selected_hrs)\n",
    "# display(wkafter_pm_17)\n",
    "proj.report_a_significance(wkafter_pm_17['total_count'], lastwk_pm_17['total_count'], X1_name='Week After', X2_name='DST Last Week')"
   ]
  },
  {
   "cell_type": "markdown",
   "id": "317f3067",
   "metadata": {},
   "source": [
    "**H1: 9am - 10.59pm accidents in the week after DST > the last week of DST**"
   ]
  },
  {
   "cell_type": "code",
   "execution_count": null,
   "id": "7bc721f1",
   "metadata": {
    "scrolled": true
   },
   "outputs": [],
   "source": [
    "selected_hrs = [9,10]# 10, 11, 12]\n",
    "\n",
    "lastwk_am_9_10 = proj.get_accidents_when(total_dst_lastwk_hr, 'hour', selected_hrs)\n",
    "# display(lastwk_am_9_10)\n",
    "wkafter_am_9_10 = proj.get_accidents_when(wk_after_hr, 'hour', selected_hrs)\n",
    "# display(wkafter_am_9_10)\n",
    "proj.report_a_significance(wkafter_am_9_10['total_count'], lastwk_am_9_10['total_count'],\n",
    "                           X1_name='Week After 9 - 10.59am', X2_name='DST Last Week 9 - 10.59am')"
   ]
  },
  {
   "cell_type": "markdown",
   "id": "034bc068",
   "metadata": {},
   "source": [
    "## e) IMPACT OF SUNRISE AND SUNSET TIMES ON ACCIDENTS"
   ]
  },
  {
   "cell_type": "code",
   "execution_count": null,
   "id": "f4a736df",
   "metadata": {},
   "outputs": [],
   "source": [
    "#sunrise impact\n",
    "rise_set_df = proj.assign_sunrise_sunset(accidents, as_boundaries=True)\n",
    "# rise_set_df"
   ]
  },
  {
   "cell_type": "code",
   "execution_count": null,
   "id": "d30f22f3",
   "metadata": {},
   "outputs": [],
   "source": [
    "two_hrs_before_rise = rise_set_df.loc[rise_set_df['full_hour'].between(rise_set_df['rise_start'] - 2, \n",
    "                                                                     rise_set_df['rise_start'] - 0.01)].index\n",
    "# display(two_hrs_before_rise)\n",
    "\n",
    "two_hrs_after_rise = rise_set_df.loc[rise_set_df['full_hour'].between(rise_set_df['rise_end'] + 0.01, \n",
    "                                                                     rise_set_df['rise_end'] + 2)].index\n",
    "# display(two_hrs_after_rise)\n",
    "\n",
    "two_hrs_before_set = rise_set_df.loc[rise_set_df['full_hour'].between(rise_set_df['set_start'] - 2,\n",
    "                                                                   rise_set_df['set_start'] - 0.01)].index\n",
    "\n",
    "two_hrs_after_set = rise_set_df.loc[rise_set_df['full_hour'].between(rise_set_df['set_start'] + 0.01, \n",
    "                                                                     rise_set_df['set_start'] + 2)].index\n",
    "# display(two_hrs_after_set)"
   ]
  },
  {
   "cell_type": "markdown",
   "id": "9cf5ebbb",
   "metadata": {},
   "source": [
    "### SUNRISE IMPACT"
   ]
  },
  {
   "cell_type": "code",
   "execution_count": null,
   "id": "c6eac1bf",
   "metadata": {},
   "outputs": [],
   "source": [
    "accidents_before_sunrise = accidents.loc[two_hrs_before_rise]\n",
    "accidents_after_sunrise = accidents.loc[two_hrs_after_rise]"
   ]
  },
  {
   "cell_type": "code",
   "execution_count": null,
   "id": "491023ed",
   "metadata": {},
   "outputs": [],
   "source": [
    "# accidents_before_sunrise"
   ]
  },
  {
   "cell_type": "code",
   "execution_count": null,
   "id": "b7bcb8e2",
   "metadata": {
    "scrolled": true
   },
   "outputs": [],
   "source": [
    "cols = ['hour', 'total_count']\n",
    "before_agg = proj.generate_aggregated_lookup(accidents_before_sunrise)\n",
    "# total_before_hr = before_agg[cols].groupby(cols[:-1]).sum()\n",
    "display(total_before_hr)\n",
    "\n",
    "avg = total_before_hr['total_count'].mean()\n",
    "cmap = {i:'red' if v >= avg else 'gray' for i, v in zip(total_before_hr.index, total_before_hr['total_count'])}\n",
    "# display(cmap)\n",
    "proj.plot_column(total_before_hr.index, total_before_hr['total_count'],\n",
    "                 plot_title='Accidents Within Two Hours Before Sunrise',\n",
    "                paletter=cmap)\n",
    "plt.show()\n",
    "\n",
    "after_agg = proj.generate_aggregated_lookup(accidents_after_sunrise)\n",
    "total_after_hr = after_agg[cols].groupby(cols[:-1]).sum()\n",
    "# display(total_after_hr)\n",
    "\n",
    "\n",
    "avg = total_after_hr['total_count'].mean()\n",
    "cmap = {i:'red' if v >= avg else 'gray' for i, v in zip(total_after_hr.index, total_after_hr['total_count'])}\n",
    "proj.plot_column(total_after_hr.index, total_after_hr['total_count'],\n",
    "                 plot_title='Accidents Within Two Hours Before Sunrise',\n",
    "                paletter=cmap)"
   ]
  },
  {
   "cell_type": "code",
   "execution_count": null,
   "id": "d0373e23",
   "metadata": {},
   "outputs": [],
   "source": [
    "before_rise_agg = proj.generate_aggregated_lookup(accidents_before_sunrise)\n",
    "after_rise_agg = proj.generate_aggregated_lookup(accidents_after_sunrise)"
   ]
  },
  {
   "cell_type": "code",
   "execution_count": null,
   "id": "47a26300",
   "metadata": {
    "scrolled": true
   },
   "outputs": [],
   "source": [
    "cols = ['hour', 'total_count']\n",
    "before_sunrise_hr = before_rise_agg[cols].groupby(cols[:-1]).sum().reset_index()\n",
    "# display(before_sunrise_hr)\n",
    "after_sunrise_hr = after_rise_agg[cols].groupby(cols[:-1]).sum().reset_index()\n",
    "# display(after_sunrise_hr)\n",
    "\n",
    "before_sunrise_hr = before_sunrise_hr.append(pd.DataFrame({'hour':[8, 9, 10],\n",
    "                                                           'total_count':[0, 0, 0]})).sort_values('hour').reset_index(drop=True)\n",
    "\n",
    "# display(before_sunrise_hr)\n",
    "\n",
    "after_sunrise_hr = after_sunrise_hr.append(pd.DataFrame({'hour':[2, 3],\n",
    "                                                         'total_count':[0, 0]})).sort_values('hour').reset_index(drop=True)\n",
    "\n",
    "# display(after_sunrise_hr)"
   ]
  },
  {
   "cell_type": "code",
   "execution_count": null,
   "id": "df7bac1a",
   "metadata": {
    "scrolled": true
   },
   "outputs": [],
   "source": [
    "before_sunrise_hr = before_sunrise_hr.set_index(before_sunrise_hr['hour'])\n",
    "# display(before_sunrise_hr)\n",
    "after_sunrise_hr = after_sunrise_hr.set_index(before_sunrise_hr['hour'])\n",
    "# display(after_sunrise_hr)"
   ]
  },
  {
   "cell_type": "code",
   "execution_count": null,
   "id": "eea3fc27",
   "metadata": {},
   "outputs": [],
   "source": [
    "proj.plot_diff(before_sunrise_hr['total_count'], after_sunrise_hr['total_count'] ,\n",
    "               left_legend='Within 2 Hours Before Sunrise',plot_title='Accidents Within 2 Hours Before Sunrise Vs After Sunrise',\n",
    "              right_legend='Within 2 Hours After Sunrise', xlim=(-6500, 12800), left_labe_shift=5000,\n",
    "              fig_w=12, fig_filename='sunrise_impact.png', savefig=True)"
   ]
  },
  {
   "cell_type": "markdown",
   "id": "c09c9c18",
   "metadata": {},
   "source": [
    "####  H1: Accidents after sunrise > accidents before sunrise"
   ]
  },
  {
   "cell_type": "code",
   "execution_count": null,
   "id": "6aaafd8d",
   "metadata": {
    "scrolled": true
   },
   "outputs": [],
   "source": [
    "X2_name = 'Accidents 2 hrs before sunrise'\n",
    "X1_name = 'Accidents 2 hrs after sunrise'\n",
    "proj.report_a_significance(after_sunrise_hr['total_count'], before_sunrise_hr['total_count'],\n",
    "                          X1_name=X1_name, X2_name=X2_name, balance=False)"
   ]
  },
  {
   "cell_type": "markdown",
   "id": "f0d2883f",
   "metadata": {},
   "source": [
    "#### h1: Accidents at 7 - 9.59am after sunrise > before sunrise"
   ]
  },
  {
   "cell_type": "code",
   "execution_count": null,
   "id": "f3ef6eb7",
   "metadata": {
    "scrolled": true
   },
   "outputs": [],
   "source": [
    "after_am_7_9 = after_sunrise_hr.loc[after_sunrise_hr['hour'].isin([7, 8, 9])]\n",
    "# display(after_am_7_9)\n",
    "before_am_7_9 = before_sunrise_hr.loc[before_sunrise_hr['hour'].isin([7, 8, 9])]\n",
    "# display(before_am_7_9)\n",
    "\n",
    "X2_name = 'Accidents before sunrise at 7am - 9.59am'\n",
    "X1_name = 'Accidents after sunrise at 7am - 9.59am'\n",
    "proj.report_a_significance(after_am_7_9['total_count'], before_am_7_9['total_count'],\n",
    "                          X1_name=X1_name, X2_name=X2_name, balance=False)"
   ]
  },
  {
   "cell_type": "markdown",
   "id": "b3826413",
   "metadata": {},
   "source": [
    "### SUNSET IMPACT"
   ]
  },
  {
   "cell_type": "code",
   "execution_count": null,
   "id": "ca1943e5",
   "metadata": {},
   "outputs": [],
   "source": [
    "accidents_before_sunset = accidents.loc[two_hrs_before_set]\n",
    "accidents_after_sunset = accidents.loc[two_hrs_after_set]"
   ]
  },
  {
   "cell_type": "code",
   "execution_count": null,
   "id": "96059a98",
   "metadata": {},
   "outputs": [],
   "source": [
    "# accidents_before_sunset"
   ]
  },
  {
   "cell_type": "code",
   "execution_count": null,
   "id": "c5a0e5b1",
   "metadata": {
    "scrolled": true
   },
   "outputs": [],
   "source": [
    "cols = ['hour', 'total_count']\n",
    "before_agg = proj.generate_aggregated_lookup(accidents_before_sunset)\n",
    "total_before_hr = before_agg[cols].groupby(cols[:-1]).sum()\n",
    "# display(total_before_hr)\n",
    "\n",
    "avg = total_before_hr['total_count'].mean()\n",
    "cmap = {i:'red' if v >= avg else 'gray' for i, v in zip(total_before_hr.index, total_before_hr['total_count'])}\n",
    "# display(cmap)\n",
    "proj.plot_column(total_before_hr.index, total_before_hr['total_count'],\n",
    "                 plot_title='Accidents Within Two Hours Before Sunset',\n",
    "                paletter=cmap)\n",
    "plt.show()\n",
    "\n",
    "after_agg = proj.generate_aggregated_lookup(accidents_after_sunset)\n",
    "total_after_hr = after_agg[cols].groupby(cols[:-1]).sum()\n",
    "# display(total_after_hr)\n",
    "\n",
    "\n",
    "avg = total_after_hr['total_count'].mean()\n",
    "cmap = {i:'red' if v >= avg else 'gray' for i, v in zip(total_after_hr.index, total_after_hr['total_count'])}\n",
    "proj.plot_column(total_after_hr.index, total_after_hr['total_count'],\n",
    "                 plot_title='Accidents Within Two Hours Before Sunset',\n",
    "                paletter=cmap)"
   ]
  },
  {
   "cell_type": "code",
   "execution_count": null,
   "id": "af9a5600",
   "metadata": {},
   "outputs": [],
   "source": [
    "before_set_agg = proj.generate_aggregated_lookup(accidents_before_sunset)\n",
    "after_set_agg = proj.generate_aggregated_lookup(accidents_after_sunset)"
   ]
  },
  {
   "cell_type": "code",
   "execution_count": null,
   "id": "161e6b4b",
   "metadata": {
    "scrolled": true
   },
   "outputs": [],
   "source": [
    "cols = ['hour', 'total_count']\n",
    "before_sunset_hr = before_set_agg[cols].groupby(cols[:-1]).sum().reset_index()\n",
    "# display(before_sunset_hr)\n",
    "after_sunset_hr = after_set_agg[cols].groupby(cols[:-1]).sum().reset_index()\n",
    "# display(after_sunset_hr)\n",
    "\n",
    "before_sunset_hr = before_sunset_hr.append(pd.DataFrame({'hour':[22, 23],\n",
    "                                                           'total_count':[0, 0]})).sort_values('hour').reset_index(drop=True)\n",
    "\n",
    "# display(before_sunset_hr)\n",
    "\n",
    "after_sunset_hr = after_sunset_hr.append(pd.DataFrame({'hour':[13, 14],\n",
    "                                                         'total_count':[0, 0]})).sort_values('hour').reset_index(drop=True)\n",
    "\n",
    "# display(after_sunset_hr)"
   ]
  },
  {
   "cell_type": "code",
   "execution_count": null,
   "id": "e1daef10",
   "metadata": {},
   "outputs": [],
   "source": [
    "before_sunset_hr = before_sunset_hr.set_index(before_sunset_hr['hour'])\n",
    "# display(before_sunset_hr)\n",
    "after_sunset_hr = after_sunset_hr.set_index(before_sunset_hr['hour'])\n",
    "# display(after_sunset_hr)s"
   ]
  },
  {
   "cell_type": "code",
   "execution_count": null,
   "id": "854f5b84",
   "metadata": {
    "scrolled": true
   },
   "outputs": [],
   "source": [
    "proj.plot_diff(before_sunset_hr['total_count'], after_sunset_hr['total_count'] ,\n",
    "               left_legend='Within 2 Hours Before Sunset',plot_title='Accidents Within 2 Hours Before Sunset Vs After Sunset',\n",
    "              right_legend='Within 2 Hours After Sunset', xlim=(-10000, 12800), left_labe_shift=4500, \n",
    "              left_vlabe_shift=18, right_vlabe_shift=-12, fig_w=8, fig_filename='sunset_impact.png', savefig=True)"
   ]
  },
  {
   "cell_type": "markdown",
   "id": "d34b4283",
   "metadata": {},
   "source": [
    "####  H1: Accidents before sunset > accidents after sunset"
   ]
  },
  {
   "cell_type": "code",
   "execution_count": null,
   "id": "8de85de9",
   "metadata": {
    "scrolled": true
   },
   "outputs": [],
   "source": [
    "X1_name = 'Accidents 2 hrs before sunset'\n",
    "X2_name = 'Accidents 2 hrs after sunset'\n",
    "proj.report_a_significance(before_sunset_hr['total_count'], after_sunset_hr['total_count'],\n",
    "                          X1_name=X1_name, X2_name=X2_name, balance=False)"
   ]
  },
  {
   "cell_type": "markdown",
   "id": "bb1a0712",
   "metadata": {},
   "source": [
    "#### h1: Accidents at 14 - 15.59am before sunrise > after sunrise"
   ]
  },
  {
   "cell_type": "code",
   "execution_count": null,
   "id": "477e246b",
   "metadata": {
    "scrolled": true
   },
   "outputs": [],
   "source": [
    "before_pm_14_15 = before_sunset_hr.loc[before_sunset_hr['hour'].isin([14, 15])]\n",
    "display(before_pm_14_15)\n",
    "after_pm_14_15 = after_sunset_hr.loc[after_sunset_hr['hour'].isin([14, 15])]\n",
    "display(after_pm_14_15)\n",
    "\n",
    "X1_name = 'Accidents before sunset at 14pm - 15.59pm'\n",
    "X2_name = 'Accidents after sunset at 14pm - 15.59am'\n",
    "proj.report_a_significance(before_pm_14_15['total_count'], after_pm_14_15['total_count'],\n",
    "                          X1_name=X1_name, X2_name=X2_name, balance=False)"
   ]
  },
  {
   "cell_type": "markdown",
   "id": "a911f9fe",
   "metadata": {},
   "source": [
    "## f) RELATIONSHIP OF VEHICULAR VARIABLES TO ACCIDENTS\n"
   ]
  },
  {
   "cell_type": "markdown",
   "id": "4faa8432",
   "metadata": {},
   "source": [
    "#### Read in datasets"
   ]
  },
  {
   "cell_type": "code",
   "execution_count": null,
   "id": "cec1a355",
   "metadata": {},
   "outputs": [],
   "source": [
    "vehicle_variables = ['vehicle_reference', 'vehicle_type', 'towing_and_articulation', 'vehicle_manoeuvre',\n",
    "                     'vehicle_location_restricted_lane', 'junction_location', 'skidding_and_overturning', \n",
    "                     'hit_object_in_carriageway', 'vehicle_leaving_carriageway', 'hit_object_off_carriageway',\n",
    "                     '1st_point_of_impact', 'was_vehicle_left_hand_drive', 'journey_purpose_of_driver', 'sex_of_driver',\n",
    "                     'age_of_driver', 'age_band_of_driver', 'engine_capacity_cc', 'propulsion_code', 'age_of_vehicle',\n",
    "                     'driver_imd_decile', 'driver_home_area_type', 'vehicle_imd_decile']"
   ]
  },
  {
   "cell_type": "code",
   "execution_count": null,
   "id": "0b7aa5be",
   "metadata": {
    "scrolled": true
   },
   "outputs": [],
   "source": [
    "proj.visualize_vehicle_variables(accidents)"
   ]
  },
  {
   "cell_type": "code",
   "execution_count": null,
   "id": "7d70e9b4",
   "metadata": {
    "scrolled": true
   },
   "outputs": [],
   "source": [
    "cols = ['vehicle_type',  'was_vehicle_left_hand_drive', 'junction_location']\n",
    "proj.visualize_3_variable_rlship(accidents, cols,  y_labe=f'{cols[0]} & {cols[1]}', x_labe='accidents',\n",
    "                                plot_title='Highest Occurrences of Vehicle Type, Left Hand Drive & Junction Location',\n",
    "                                min_count_allowed=1000, savefig=True, fig_fname='veh_type_lhd.png')"
   ]
  },
  {
   "cell_type": "code",
   "execution_count": null,
   "id": "b1d341a4",
   "metadata": {},
   "outputs": [],
   "source": [
    "# print(var_look.keys())"
   ]
  },
  {
   "cell_type": "code",
   "execution_count": null,
   "id": "d228edf7",
   "metadata": {},
   "outputs": [],
   "source": [
    "# display(accidents,)# proj.null_checker(pd.DataFrame(accidents), only_nulls=True))"
   ]
  },
  {
   "cell_type": "code",
   "execution_count": null,
   "id": "06b68b21",
   "metadata": {
    "scrolled": true
   },
   "outputs": [],
   "source": [
    "cols = ['propulsion_code', 'age_of_vehicle', 'vehicle_type']\n",
    "proj.visualize_3_variable_rlship(accidents, cols,  y_labe=f'{cols[0]} & {cols[1]}', x_labe='accidents',\n",
    "                                plot_title=f'Highest Occurrences of {cols[0]}, {cols[1]} & {cols[-1]}',\n",
    "                                top_n=2,  figsize=(6, 6), savefig=True, xlim=(0, 35000),\n",
    "                                min_count_allowed=2000, fig_fname='veh_prop_age.png')"
   ]
  },
  {
   "cell_type": "code",
   "execution_count": null,
   "id": "52aca6e5",
   "metadata": {},
   "outputs": [],
   "source": [
    "# vehicle_variables = ['vehicle_reference', 'vehicle_type', 'towing_and_articulation', 'vehicle_manoeuvre',\n",
    "#                      'vehicle_location_restricted_lane', 'junction_location', 'skidding_and_overturning', \n",
    "#                      'hit_object_in_carriageway', 'vehicle_leaving_carriageway', 'hit_object_off_carriageway',\n",
    "#                      '1st_point_of_impact', 'was_vehicle_left_hand_drive', 'journey_purpose_of_driver', 'sex_of_driver',\n",
    "#                      'age_of_driver', 'age_band_of_driver', 'engine_capacity_cc', 'propulsion_code', 'age_of_vehicle',\n",
    "#                      'driver_imd_decile', 'driver_home_area_type', 'vehicle_imd_decile']"
   ]
  },
  {
   "cell_type": "code",
   "execution_count": null,
   "id": "15fa678c",
   "metadata": {
    "scrolled": true
   },
   "outputs": [],
   "source": [
    "cols = ['vehicle_location_restricted_lane', 'junction_location','journey_purpose_of_driver']\n",
    "proj.visualize_3_variable_rlship(accidents, cols,  y_labe=f'{cols[0]} & {cols[1]}', x_labe='accidents',\n",
    "                                plot_title=f'Highest Occurrences of {cols[0]}, {cols[1]} & {cols[-1]} ',\n",
    "                                top_n=3, xlim=(0, 70000), figsize=(10, 6),  annot_size=13, xy_labe_size=14,\n",
    "                                min_count_allowed=1000, savefig=True, fig_fname='veh_lane_loc.png')"
   ]
  },
  {
   "cell_type": "code",
   "execution_count": null,
   "id": "2dd1703c",
   "metadata": {
    "scrolled": true
   },
   "outputs": [],
   "source": [
    "cols = ['vehicle_manoeuvre','vehicle_location_restricted_lane', 'propulsion_code',]\n",
    "proj.visualize_3_variable_rlship(accidents, cols,  y_labe=f'{cols[0]} & {cols[1]}', x_labe='accidents',\n",
    "                                plot_title=f'Highest Occurrences of {cols[0]}, {cols[1]} & {cols[-1]} ',\n",
    "                                min_count_allowed=1000, top_n=3, xlim=(0, 65000), figsize=(8, 14), savefig=True, fig_fname='veh_type_lane.png')"
   ]
  },
  {
   "cell_type": "code",
   "execution_count": null,
   "id": "78269051",
   "metadata": {
    "scrolled": true
   },
   "outputs": [],
   "source": [
    "cols = ['vehicle_type','speed_limit', 'propulsion_code',]\n",
    "proj.visualize_3_variable_rlship(accidents, cols,  y_labe=f'{cols[0]} & {cols[1]}', x_labe='accidents',\n",
    "                                plot_title=f'Highest Occurrences of {cols[0]}, {cols[1]} & {cols[-1]}',\n",
    "                                top_n=2,  figsize=(8, 8),  annot_size=11, xy_labe_size=11,xlim=(0, 75000),\n",
    "                                min_count_allowed=2000, savefig=True, fig_fname='veh_type_spd.png')"
   ]
  },
  {
   "cell_type": "code",
   "execution_count": null,
   "id": "22adb3fc",
   "metadata": {
    "scrolled": true
   },
   "outputs": [],
   "source": [
    "cols = ['age_band_of_driver','sex_of_driver', 'accident_severity',]\n",
    "proj.visualize_3_variable_rlship(accidents, cols,  y_labe=f'{cols[0]} & {cols[1]}', x_labe='accidents',\n",
    "                                plot_title=f'Highest Occurrences of {cols[0]}, {cols[1]} & {cols[-1]}',\n",
    "                                top_n=1, xlim=(0, 70000), figsize=(15, 24),  annot_size=13, xy_labe_size=14,\n",
    "                                paletter={'fatal':'black', 'serious':'red', 'minor':'gray'},\n",
    "                                min_count_allowed=1000, )#savefig=True, fig_fname='driver_age_sex.png')"
   ]
  },
  {
   "cell_type": "markdown",
   "id": "013f7efa",
   "metadata": {},
   "source": [
    "### ASSOCIATION RULE:\n",
    "WHERE:<br>\n",
    "Vehicle_type = Car; <br>\n",
    "Propulsion = Petrol/Heavy oil;<br>\n",
    "Engine_capacity = 124, 1598, 1968;<br>\n",
    "Vehicle_age = 7; <br>\n",
    "left_hand_drive = No"
   ]
  },
  {
   "cell_type": "code",
   "execution_count": null,
   "id": "cc6fd8a6",
   "metadata": {
    "scrolled": true
   },
   "outputs": [],
   "source": [
    "cond = ((accidents['vehicle_type'] == 'Car') &\n",
    "        (accidents['propulsion_code'].isin(['Petrol', 'Heavy oil'])) &\n",
    "        (accidents['engine_capacity_cc'].isin([124.0, 1598.0, 1968.0])) &\n",
    "        (accidents['age_of_vehicle'] == 7.0)  &\n",
    "        (accidents['was_vehicle_left_hand_drive'] == 'No'))\n",
    "accidents.loc[cond]"
   ]
  },
  {
   "cell_type": "code",
   "execution_count": null,
   "id": "7e839975",
   "metadata": {},
   "outputs": [],
   "source": [
    "vehicle_variables = ['vehicle_type', 'vehicle_manoeuvre',\n",
    "                     'vehicle_location_restricted_lane', 'junction_location', \n",
    "                      'was_vehicle_left_hand_drive', 'journey_purpose_of_driver', 'sex_of_driver',\n",
    "                     'engine_capacity_cc', 'propulsion_code', 'age_of_vehicle',\n",
    "                     'vehicle_imd_decile', 'accident_severity']"
   ]
  },
  {
   "cell_type": "markdown",
   "id": "870748d3",
   "metadata": {},
   "source": [
    "Frequent driver variables: <br>\n",
    "1. restricted_lane = 'on main carriageway not on restricted lane' & right hand drive <br>\n",
    "2. restricted_lane = 'on main carriageway not on restricted lane' & driver from urban home area\n",
    "3. right hand drive & driver from urban home area\n",
    "4. restricted_lane = 'on main carriageway not on restricted lane' &   right hand drive & driver from urban home area"
   ]
  },
  {
   "cell_type": "code",
   "execution_count": null,
   "id": "6dc7dff6",
   "metadata": {
    "scrolled": true
   },
   "outputs": [],
   "source": [
    "acc_df = proj.get_accidents_with_labels(accidents)\n",
    "display(acc_df)\n",
    "\n",
    "result = proj.run_apriori(acc_df[vehicle_variables], min_support=0.1)\n",
    "display(result)"
   ]
  },
  {
   "cell_type": "code",
   "execution_count": null,
   "id": "a926cf2f",
   "metadata": {
    "scrolled": true
   },
   "outputs": [],
   "source": [
    "ranking_cols = ['vehicle_location_restricted_lane', 'vehicle_type', 'was_vehicle_left_hand_drive']\n",
    "counts = proj.rank_top_occurrences(acc_df[ranking_cols], min_count_allowed=2000)\n",
    "display(counts)\n",
    "x, y = counts.drop(ranking_cols[-1], axis=1), counts[ranking_cols[-1]]\n",
    "labes = proj.create_label_from_ranking(x, exclude_last_col=False)\n",
    "display(labes)\n",
    "\n",
    "proj.plot_bar(y=labes, x=counts['total_count'], condition_on=y, annotate=True, annot_size=12,xlim=(0, 235000),\n",
    "                 plot_title=f'Association Between Vehicle Variables', paletter=None, figsize=(8, 7), xy_labe_size=9,\n",
    "                 x_labe='accidents', y_labe=f\"{cols[:-1]}\", dpi=250, savefig=True, fig_filename='veh_typ_lane_lhd.png')"
   ]
  },
  {
   "cell_type": "code",
   "execution_count": null,
   "id": "6b31a8b4",
   "metadata": {
    "scrolled": true
   },
   "outputs": [],
   "source": [
    "ranking_cols = ['vehicle_location_restricted_lane', 'journey_purpose_of_driver', 'was_vehicle_left_hand_drive']\n",
    "counts = proj.rank_top_occurrences(acc_df[ranking_cols], min_count_allowed=2000)\n",
    "display(counts)\n",
    "x, y = counts.drop(ranking_cols[-1], axis=1), counts[ranking_cols[-1]]\n",
    "labes = proj.create_label_from_ranking(x, exclude_last_col=False)\n",
    "display(labes)\n",
    "\n",
    "proj.plot_bar(y=labes, x=counts['total_count'], condition_on=y, annotate=True, annot_size=12,xlim=(0, 235000),\n",
    "                 plot_title=f'Association Between Vehicle Variables', paletter=None, figsize=(8, 7), xy_labe_size=9,\n",
    "                 x_labe='accidents', y_labe=f\"{cols[:-1]}\", dpi=250, savefig=True, fig_filename='veh_purp_lane_lhd.png')"
   ]
  },
  {
   "cell_type": "code",
   "execution_count": null,
   "id": "de05ba20",
   "metadata": {
    "scrolled": true
   },
   "outputs": [],
   "source": [
    "\n",
    "ranking_cols = ['vehicle_location_restricted_lane', 'sex_of_driver', 'was_vehicle_left_hand_drive']\n",
    "counts = proj.rank_top_occurrences(acc_df[ranking_cols], min_count_allowed=2000)\n",
    "display(counts)\n",
    "x, y = counts.drop(ranking_cols[-1], axis=1), counts[ranking_cols[-1]]\n",
    "labes = proj.create_label_from_ranking(x, exclude_last_col=False)\n",
    "display(labes)\n",
    "\n",
    "proj.plot_bar(y=labes, x=counts['total_count'], condition_on=y, annotate=True, annot_size=12,xlim=(0, 235000),\n",
    "                 plot_title=f'Association Between Vehicle Variables', paletter=None, figsize=(8, 7), xy_labe_size=9,\n",
    "                 x_labe='accidents', y_labe=f\"{cols[:-1]}\", dpi=250, savefig=True, fig_filename='veh_sex_lane_lhd.png')"
   ]
  },
  {
   "cell_type": "code",
   "execution_count": null,
   "id": "e1ac734e",
   "metadata": {
    "scrolled": true
   },
   "outputs": [],
   "source": [
    "ranking_cols = ['vehicle_location_restricted_lane', 'journey_purpose_of_driver','sex_of_driver', \n",
    "                'vehicle_type', 'was_vehicle_left_hand_drive', 'accident_severity']\n",
    "counts = proj.rank_top_occurrences(acc_df[ranking_cols], top_n=5, min_count_allowed=2000)\n",
    "display(counts)\n",
    "x, y = counts.drop(ranking_cols[-1], axis=1), counts[ranking_cols[-1]]\n",
    "labes = proj.create_label_from_ranking(x, exclude_last_col=False)\n",
    "display(labes)\n",
    "\n",
    "proj.plot_bar(y=labes, x=counts['total_count'], condition_on=y, annotate=True, annot_size=12,xlim=(0, 75000),\n",
    "                 plot_title=f'Association Between Vehicle Variables', figsize=(8, 7), xy_labe_size=9,\n",
    "              paletter={'fatal':'black', 'serious':'red', 'minor':'gray'},\n",
    "                 x_labe='accidents', y_labe=f\"{cols[:-1]}\", dpi=250, savefig=True, fig_filename='veh_sev_purp__sex_lane_lhd.png')"
   ]
  },
  {
   "cell_type": "code",
   "execution_count": null,
   "id": "8010e4b1",
   "metadata": {
    "scrolled": true
   },
   "outputs": [],
   "source": [
    "ranking_cols = ['vehicle_type', 'was_vehicle_left_hand_drive', 'vehicle_location_restricted_lane',\n",
    "       'accident_severity']\n",
    "acc_df = proj.get_accidents_with_labels(accidents)\n",
    "counts = proj.rank_top_occurrences(acc_df[ranking_cols], top_n=2, min_count_allowed=2000)\n",
    "display(counts)\n",
    "\n",
    "x = counts.drop(ranking_cols[-1], axis=1)\n",
    "y = counts[ranking_cols[-1]]\n",
    "\n",
    "labe = proj.create_label_from_ranking(x, exclude_last_col=False)\n",
    "display(labe)\n",
    "\n",
    "proj.plot_bar(y=labe, x=counts['total_count'], condition_on=y, annotate=True, annot_size=12,xlim=(0, 175000),\n",
    "                 plot_title=f'Association Between Vehicle Variables', figsize=(8, 10), xy_labe_size=9,\n",
    "              paletter={'fatal':'black', 'serious':'red', 'minor':'gray'},\n",
    "                 x_labe='accidents', y_labe=f\"{ranking_cols[:-1]}\", dpi=250, savefig=True, \n",
    "              fig_filename='veh_typ_lane_lhd.png')"
   ]
  },
  {
   "cell_type": "markdown",
   "id": "91e23826",
   "metadata": {},
   "source": [
    "## e) CONDITIONS (WEATHER, GEOGRAPHIC LOCATION, SITUATION ) THAT GENERATE MORE ACCIDENTS"
   ]
  },
  {
   "cell_type": "code",
   "execution_count": null,
   "id": "a836c136",
   "metadata": {},
   "outputs": [],
   "source": [
    "geo_variables = ['local_authority_district', 'local_authority_highway', '1st_road_class', 'police_force',]\n",
    "\n",
    "situation_variables = ['road_type', 'road_surface_conditions', '1st_road_class', '2nd_road_class', 'junction_detail', 'junction_control', \n",
    "                       'speed_limit', 'pedestrian_crossing_human_control', 'day_name', 'month_name', 'is_offseason',\n",
    "                     'pedestrian_crossing_physical_facilities', 'light_conditions', 'carriageway_hazards', \n",
    "                     'pedestrian_location', 'pedestrian_movement', 'car_passenger','bus_or_coach_passenger',\n",
    "                     'pedestrian_road_maintenance_worker', 'casualty_type', 'special_conditions_at_site', 'urban_or_rural_area']\n",
    "\n",
    "weather_variables = ['weather_conditions', 'season', 'road_surface_conditions',]"
   ]
  },
  {
   "cell_type": "code",
   "execution_count": null,
   "id": "4d034877",
   "metadata": {
    "scrolled": true
   },
   "outputs": [],
   "source": [
    "acc_df = proj.get_accidents_with_labels(accidents)\n",
    "display(acc_df)\n",
    "\n",
    "apr_result = proj.run_apriori(acc_df, geo_variables, min_support=0.1)"
   ]
  },
  {
   "cell_type": "code",
   "execution_count": null,
   "id": "d1b3e9e3",
   "metadata": {
    "scrolled": true
   },
   "outputs": [],
   "source": [
    "display(apr_result)"
   ]
  },
  {
   "cell_type": "code",
   "execution_count": null,
   "id": "2e67cf5e",
   "metadata": {
    "scrolled": true
   },
   "outputs": [],
   "source": [
    "acc_df = proj.get_accidents_with_labels(accidents)\n",
    "display(acc_df)"
   ]
  },
  {
   "cell_type": "code",
   "execution_count": null,
   "id": "79902426",
   "metadata": {
    "scrolled": true
   },
   "outputs": [],
   "source": [
    "apr_result = proj.run_apriori(acc_df, weather_variables, min_support=0.1)"
   ]
  },
  {
   "cell_type": "code",
   "execution_count": null,
   "id": "965f9368",
   "metadata": {
    "scrolled": true
   },
   "outputs": [],
   "source": [
    "display(apr_result)"
   ]
  },
  {
   "cell_type": "code",
   "execution_count": null,
   "id": "12b5c456",
   "metadata": {
    "scrolled": true
   },
   "outputs": [],
   "source": [
    "use = apr_result.loc[apr_result['num_sets'] == 2]\n",
    "use"
   ]
  },
  {
   "cell_type": "code",
   "execution_count": null,
   "id": "fa858fde",
   "metadata": {
    "scrolled": true
   },
   "outputs": [],
   "source": [
    "# start = 0\n",
    "# stop = 5\n",
    "print(use.loc[8]['itemsets'])"
   ]
  },
  {
   "cell_type": "code",
   "execution_count": null,
   "id": "ef4436fc",
   "metadata": {},
   "outputs": [],
   "source": [
    "\n",
    "counts = proj.rank_top_occurrences(acc_df[weather_variables[:-1]], min_count_allowed=2000)\n",
    "counts"
   ]
  },
  {
   "cell_type": "code",
   "execution_count": null,
   "id": "d12ec7d6",
   "metadata": {},
   "outputs": [],
   "source": [
    "labe = proj.create_label_from_ranking(counts)\n",
    "labe"
   ]
  },
  {
   "cell_type": "code",
   "execution_count": null,
   "id": "17e12666",
   "metadata": {
    "scrolled": true
   },
   "outputs": [],
   "source": [
    "proj.plot_bar(counts['total_count'], labe, counts.iloc[:, -2],  figsize=(6, 5),  annotate=True,\n",
    "                                xlim=(0, 70000), savefig=True, fig_filename='weather_ssn_surf.png',\n",
    "              paletter={'autumn': 'black', 'spring': 'green', 'summer': 'yellow', 'winter':'gray'},\n",
    "              x_labe='accidents', plot_title='Association Between Weather Variables', annot_size=12)"
   ]
  },
  {
   "cell_type": "code",
   "execution_count": null,
   "id": "d52f181d",
   "metadata": {},
   "outputs": [],
   "source": [
    "counts = proj.rank_top_occurrences(acc_df[weather_variables], min_count_allowed=2000)\n",
    "counts"
   ]
  },
  {
   "cell_type": "code",
   "execution_count": null,
   "id": "9ae73a2a",
   "metadata": {},
   "outputs": [],
   "source": [
    "ranking_cols = ['weather_conditions', 'road_surface_conditions', 'season']\n",
    "labe = proj.create_label_from_ranking(counts[ranking_cols])\n",
    "labe"
   ]
  },
  {
   "cell_type": "code",
   "execution_count": null,
   "id": "870dc023",
   "metadata": {},
   "outputs": [],
   "source": [
    "labe.iloc[0]"
   ]
  },
  {
   "cell_type": "code",
   "execution_count": null,
   "id": "44cabee3",
   "metadata": {
    "scrolled": true
   },
   "outputs": [],
   "source": [
    "proj.plot_bar(counts['total_count'], labe, counts.loc[:, 'season'],  figsize=(6, 5),  annotate=True,\n",
    "                                xlim=(0, 70000),# savefig=True, fig_filename='weather_ssn_surf.png',\n",
    "              paletter={'autumn': 'black', 'spring': 'green', 'summer': 'yellow', 'winter':'gray'},\n",
    "              x_labe='accidents', plot_title='Association Between Weather Variables', annot_size=12)"
   ]
  },
  {
   "cell_type": "markdown",
   "id": "3f9734f1",
   "metadata": {},
   "source": [
    "#### SITUATIONAL INFLUENCE"
   ]
  },
  {
   "cell_type": "code",
   "execution_count": null,
   "id": "8ad07fb6",
   "metadata": {},
   "outputs": [],
   "source": [
    "ranking_cols = ['bus_or_coach_passenger', 'pedestrian_location', 'pedestrian_movement', 'pedestrian_crossing_human_control',\n",
    "               'junction_control', 'carriageway_hazards', 'pedestrian_road_maintenance_worker', \n",
    "                'pedestrian_crossing_physical_facilities', '1st_road_']\n",
    "counts = proj.rank_top_occurrences(acc_df[ranking_cols], min_count_allowed=2000)\n",
    "counts\n",
    "# acc_df.value_counts().sort_values(ascending=False).reset_index()"
   ]
  },
  {
   "cell_type": "code",
   "execution_count": null,
   "id": "3867ad50",
   "metadata": {},
   "outputs": [],
   "source": [
    "labe = proj.create_label_from_ranking(counts)\n",
    "labe"
   ]
  },
  {
   "cell_type": "code",
   "execution_count": null,
   "id": "c5c31601",
   "metadata": {
    "scrolled": true
   },
   "outputs": [],
   "source": [
    "proj.plot_bar(counts['total_count'], labe, counts[ranking_cols[-1]],  figsize=(6, 5),  annotate=True,\n",
    "                                xlim=(0, 280000), savefig=True, fig_filename='situation_bus_loc.png',\n",
    "              x_labe='accidents', plot_title='Association Between Variables', annot_size=12)"
   ]
  },
  {
   "cell_type": "code",
   "execution_count": null,
   "id": "c16e5e17",
   "metadata": {},
   "outputs": [],
   "source": [
    "proj.visualize_distributions(acc_df)"
   ]
  },
  {
   "cell_type": "code",
   "execution_count": null,
   "id": "f01511b6",
   "metadata": {},
   "outputs": [],
   "source": [
    "ranking_cols = ['light_conditions', 'speed_limit', 'driver_home_area_type', 'road_type', 'is_weekend',\n",
    "                'part_of_day']\n",
    "counts = proj.rank_top_occurrences(acc_df[ranking_cols], min_count_allowed=2000)\n",
    "display(counts)\n",
    "\n",
    "labe = proj.create_label_from_ranking(counts, exclude_last_col=True)\n",
    "display(labe[0])"
   ]
  },
  {
   "cell_type": "code",
   "execution_count": null,
   "id": "203b4766",
   "metadata": {},
   "outputs": [],
   "source": [
    "proj.plot_bar(counts['total_count'], labe, counts[ranking_cols[-1]],  figsize=(6, 5),  annotate=True,\n",
    "                                savefig=True, fig_filename='situation_light_spd_rtype2.png',xlim=(0, 39000),\n",
    "              x_labe='accidents', plot_title='Association Between Variables', annot_size=12,\n",
    "             paletter={'morning':'green', 'afternoon':'yellow', 'evening':'gray', 'night':'black'})"
   ]
  },
  {
   "cell_type": "markdown",
   "id": "8f1cb220",
   "metadata": {},
   "source": [
    "Association Rules:\n",
    "1. not a bus passenger & \n",
    "2. carriageway hazards = None & \n",
    "3. pedestrian_location = Not a pedestrian &\n",
    "4. pedestrian_crossing_human_control = None within 50 metres &\n",
    "5. urban_or_rural_area = Urban &\n",
    "6. pedestrian_road_maintenance_worker = No / Not applicable &\n",
    "7. pedestrian_movement = Not a Pedestrian"
   ]
  },
  {
   "cell_type": "markdown",
   "id": "b958159a",
   "metadata": {},
   "source": [
    "Association Rules:\n",
    "1. road_type = Single carriageway &\n",
    "2. carriageway_hazards = None & \n",
    "3. bus_or_coach_passenger = Not a bus or coach passenger\n",
    "4. pedestrian_location = Not a Pedestrian &\n",
    "5. pedestrian_crossing_human_control = None within 50 metres\n",
    "6. pedestrian_road_maintenance_worker = No / Not applicable &\n",
    "7. junction_control = Give way or uncontrolled &\n",
    "8. pedestrian_movement = Not a Pedestrian\n",
    "9. pedestrian_crossing_physical_facilities = No physical crossing facilities within 50 metres"
   ]
  },
  {
   "cell_type": "code",
   "execution_count": null,
   "id": "6a0cf987",
   "metadata": {
    "scrolled": true
   },
   "outputs": [],
   "source": [
    "weather = proj.assign_weather(accidents)\n",
    "weather_freq = weather.value_counts()\n",
    "print(weather)\n",
    "proj.plot_bar(y=weather_freq.index, x=weather_freq, plot_title='Weather Ranking for Accident Occurrence',\n",
    "              annotate=True, savefig=True, fig_filename='weather_ranking.png')\n",
    "\n",
    "severity = proj.assign_severity(accidents)\n",
    "df = pd.concat([weather, severity], axis=1)\n",
    "\n",
    "cols = [severity.name, weather.name, 'total_count']\n",
    "print(cols)\n",
    "total = df.value_counts().sort_index().reset_index()\n",
    "total.columns = total.columns.astype(str).str.replace('0', cols[-1])\n",
    "total = total[cols].groupby(cols[:-1]).sum().reset_index()\n",
    "display(total)\n",
    "\n",
    "proj.plot_bar(x=total[cols[-1]], y=total[cols[1]], condition_on=total[cols[0]],\n",
    "              plot_title='Accident Outcome per Weather Conditions',\n",
    "              paletter={'fatal':'black', 'serious':'red', 'minor':'gray'},\n",
    "              annotate=True, savefig=True, fig_filename='outcome_weather_ranking.png')\n"
   ]
  },
  {
   "cell_type": "code",
   "execution_count": null,
   "id": "605a83fe",
   "metadata": {
    "scrolled": true
   },
   "outputs": [],
   "source": [
    "    districts = proj.assign_district(accidents)\n",
    "    top10_districts = proj.rank_top10(districts, use_bar=True, x_labe='total_count', y_labe='district',\n",
    "                    plot_title='Top Ten Accidents per District', savefig=True, fig_fname='top10_district.png')"
   ]
  },
  {
   "cell_type": "code",
   "execution_count": null,
   "id": "5c799285",
   "metadata": {
    "scrolled": true
   },
   "outputs": [],
   "source": [
    "proj.plot_top10_districts(accidents, )#savefig=True)"
   ]
  },
  {
   "cell_type": "code",
   "execution_count": null,
   "id": "437a7590",
   "metadata": {
    "scrolled": true
   },
   "outputs": [],
   "source": [
    "# top 10 highway\n",
    "highways = proj.assign_highway(accidents)\n",
    "top10_highway = proj.rank_top10(accidents, 'local_authority_highway', use_bar=True, \n",
    "                                plot_title='Top Ten Highway Involved in Accidents',)\n",
    "proj.rank_top10(highways, use_bar=True,#accidents, 'local_authority_highway', use_bar=True, \n",
    "                 plot_title='Top Ten Highway Involved in Accidents', \n",
    "                savefig=True, fig_fname='hist_top10_highway.png' )\n",
    "top10_highway = proj.get_accidents_when(accidents, 'local_authority_highway', list(top10_highway.index))\n",
    "display(top10_highway)\n",
    "proj.plot_accident_map(accidents, top10_highway, point_at='highway', plot_title='UK Top Ten Highway Involved in Accidents',\n",
    "                       savefig=True, fig_filename='uk_top10_highway.png')"
   ]
  },
  {
   "cell_type": "code",
   "execution_count": null,
   "id": "b5fee8ba",
   "metadata": {},
   "outputs": [],
   "source": [
    "y = proj.assign_severity(accidents, 'accident_severity')\n",
    "x = proj.assign_severity(accidents)\n",
    "cols = [x.name, y.name]\n",
    "print(cols)\n",
    "df = pd.concat([x, y], axis=1)\n",
    "ranked = proj.rank_top_occurrences(df, cols[-1])\n",
    "proj.plot_bar(y=ranked[x.name], x=ranked['total_count'], condition_on=ranked[y.name], paletter=None,\n",
    "             annotate=True, paletter={'fatal':'black', 'serious':'red', 'minor':'gray'})"
   ]
  },
  {
   "cell_type": "code",
   "execution_count": null,
   "id": "2a30b729",
   "metadata": {},
   "outputs": [],
   "source": [
    "cols = ['road_type', 'road_surface', 'light_conditions', 'casualty_severity']\n",
    "rtype = proj.assign_road_type(accidents)\n",
    "rsurf = proj.assign_road_surface(accidents)\n",
    "jpurp = proj.assign_journey_purpose(accidents)\n",
    "\n",
    "df = pd.concat([rtype, rsurf, jpurp], axis=1)\n",
    "counts = proj.rank_top_occurrences(df)\n",
    "display(counts)"
   ]
  },
  {
   "cell_type": "code",
   "execution_count": null,
   "id": "21e7169e",
   "metadata": {
    "scrolled": true
   },
   "outputs": [],
   "source": [
    "categ_indwx = counts[['road_type', 'road_surface_conditions']].apply(lambda row: \n",
    "                                                                     f\" {row['road_type']} Road on {row['road_surface_conditions']} surface\",\n",
    "                                                                    axis=1)\n",
    "cmap = {'Not known':'gray', 'Journey as part of work':'green', 'Other':'blue'}\n",
    "display(categ_indwx)\n",
    "proj.plot_bar(counts['total_count'], categ_indwx, counts['journey_purpose_of_driver'],\n",
    "             paletter=cmap, y_labe='Type and Surface of Road', x_labe='Accident Count',\n",
    "              xy_labe_size=8, annotate=True, figsize=(8, 14), annot_size=12, xlim=(0,90000),\n",
    "              plot_title='Accident Relationship Between Type and Surface of Road and Journey Purpose',\n",
    "             savefig=True, fig_filename='driver_var_jpurp.png')"
   ]
  },
  {
   "cell_type": "code",
   "execution_count": null,
   "id": "f5bcbef3",
   "metadata": {
    "scrolled": true
   },
   "outputs": [],
   "source": [
    "acc_df = proj.get_accidents_with_labels(accidents)\n",
    "display(acc_df)\n",
    "counts = proj.rank_top_occurrences(acc_df[geo_variables], min_count_allowed=1000)\n",
    "counts"
   ]
  },
  {
   "cell_type": "code",
   "execution_count": null,
   "id": "cfa39a90",
   "metadata": {},
   "outputs": [],
   "source": [
    "x = counts.drop('1st_road_class', axis=1)\n",
    "y = counts['1st_road_class']\n",
    "labes = proj.create_label_from_ranking(x, exclude_last_col=False)\n",
    "labes\n"
   ]
  },
  {
   "cell_type": "code",
   "execution_count": null,
   "id": "f747af7e",
   "metadata": {},
   "outputs": [],
   "source": [
    "proj.plot_bar(x=counts['total_count'], y=labes, condition_on=y, annotate=True, annot_size=11,\n",
    "             figsize=(7, 15), xlim=(0, 4000), plot_title='Association Between Geographic Variables',\n",
    "             savefig=True, fig_filename='geo_variables.png')"
   ]
  },
  {
   "cell_type": "markdown",
   "id": "46044dde",
   "metadata": {},
   "source": [
    "### DRIVER'S AGE AND CASUALTY GENDER"
   ]
  },
  {
   "cell_type": "code",
   "execution_count": null,
   "id": "6f045bb8",
   "metadata": {},
   "outputs": [],
   "source": [
    "vehicle_variables = ['vehicle_reference', 'vehicle_type', 'towing_and_articulation', 'vehicle_manoeuvre', 'vehicle_location_restricted_lane', 'junction_location', 'skidding_and_overturning', 'hit_object_in_carriageway', 'vehicle_leaving_carriageway', 'hit_object_off_carriageway', '1st_point_of_impact', 'was_vehicle_left_hand_drive', 'journey_purpose_of_driver', 'sex_of_driver', 'age_of_driver', 'age_band_of_driver', 'engine_capacity_cc', 'propulsion_code', \n",
    "                     'age_of_vehicle', 'driver_imd_decile', 'driver_home_area_type', 'vehicle_imd_decile']"
   ]
  },
  {
   "cell_type": "code",
   "execution_count": null,
   "id": "f37b40b3",
   "metadata": {},
   "outputs": [],
   "source": []
  },
  {
   "cell_type": "code",
   "execution_count": null,
   "id": "ac478eae",
   "metadata": {
    "scrolled": true
   },
   "outputs": [],
   "source": [
    "proj.visualize_casualty_outcomes_for(accidents, savefig=True)"
   ]
  },
  {
   "cell_type": "code",
   "execution_count": null,
   "id": "7d697815",
   "metadata": {
    "scrolled": true
   },
   "outputs": [],
   "source": [
    "acc_df = proj.get_accidents_with_labels(accidents)\n",
    "cols = ['age_band_of_driver', 'sex_of_driver', 'accident_severity']\n",
    "counts = proj.rank_top_occurrences(acc_df[cols], min_count_allowed=1)\n",
    "display(counts)"
   ]
  },
  {
   "cell_type": "code",
   "execution_count": null,
   "id": "179fe7f6",
   "metadata": {
    "scrolled": true
   },
   "outputs": [],
   "source": [
    "labes  = proj.create_label_from_ranking(counts)\n",
    "proj.plot_bar(counts['total_count'], labes, counts[cols[-1]], figsize=(8, 12),\n",
    "             paletter={'fatal':'black', 'serious':'red', 'minor':'gray'}, annotate=True,\n",
    "             plot_title='Relationship Between Age & Sex of Driver to Accident Outcome',\n",
    "             savefig=True, fig_filename='driver_age_sex.png')"
   ]
  },
  {
   "cell_type": "code",
   "execution_count": null,
   "id": "d975dc85",
   "metadata": {
    "scrolled": true
   },
   "outputs": [],
   "source": [
    "acc_df = proj.get_accidents_with_labels(accidents)\n",
    "cols = ['age_band_of_driver', 'sex_of_driver', 'journey_purpose_of_driver','accident_severity']\n",
    "counts = proj.rank_top_occurrences(acc_df[cols], min_count_allowed=2000)\n",
    "display(counts)"
   ]
  },
  {
   "cell_type": "code",
   "execution_count": null,
   "id": "9aff149a",
   "metadata": {
    "scrolled": true
   },
   "outputs": [],
   "source": [
    "labes  = proj.create_label_from_ranking(counts)\n",
    "display(labes.iloc[0])"
   ]
  },
  {
   "cell_type": "code",
   "execution_count": null,
   "id": "3c4828e3",
   "metadata": {
    "scrolled": true
   },
   "outputs": [],
   "source": [
    "proj.plot_bar(counts['total_count'], labes, counts[cols[-1]], figsize=(8, 18),\n",
    "             paletter={'fatal':'black', 'serious':'red', 'minor':'gray'}, annotate=True,\n",
    "             plot_title='Relationship Between Driver Variables to Accident Outcome',\n",
    "             savefig=True, fig_filename='driver_age_sex_purp.png')"
   ]
  },
  {
   "cell_type": "code",
   "execution_count": null,
   "id": "591a2fe4",
   "metadata": {
    "scrolled": true
   },
   "outputs": [],
   "source": [
    "agg_df = proj.visualize_severity(accidents, plot_title='Accident Casualty Outcomes per Month',\n",
    "                            xlim=(0, 25000), savefig=True, fig_filename='outcome_per_month.png')\n",
    "display(agg_df)\n",
    "\n"
   ]
  },
  {
   "cell_type": "code",
   "execution_count": null,
   "id": "bc4b1a10",
   "metadata": {},
   "outputs": [],
   "source": [
    "accidents['is_offseason'] = proj.assign_pl_offseason(accidents)\n",
    "# accidents['is_league_weekend'] = is_prem_wkend(accidents)"
   ]
  },
  {
   "cell_type": "code",
   "execution_count": null,
   "id": "fac329b3",
   "metadata": {},
   "outputs": [],
   "source": [
    "accidents"
   ]
  },
  {
   "cell_type": "code",
   "execution_count": null,
   "id": "a20815e9",
   "metadata": {
    "scrolled": true
   },
   "outputs": [],
   "source": [
    "cols = ['is_offseason', 'is_weekend']\n",
    "\n",
    "agg = proj.generate_aggregated_lookup(accidents, cols)\n",
    "prem_offssn = agg[cols+ ['total_count']].groupby(cols).sum().reset_index()\n",
    "\n",
    "proj.plot_column(prem_offssn['is_offseason'], prem_offssn['total_count'],\n",
    "                 prem_offssn['is_weekend'], \n",
    "                 plot_title='Weekend/Weekday Accident When Premier League Season is Off/On',\n",
    "                 savefig=True, fig_filename='wkend_offseason.png')"
   ]
  },
  {
   "cell_type": "code",
   "execution_count": null,
   "id": "171bd756",
   "metadata": {
    "scrolled": true
   },
   "outputs": [],
   "source": [
    "cols = ['is_offseason', 'day_of_week', 'day_name']\n",
    "color_mapping = {'Sunday': 'green', 'Monday': 'blue', 'Tuesday': 'yellow', 'Wednesday': 'darkorange',\n",
    "                 'Thursday': 'red', 'Friday': 'black', 'Saturday': 'gray'}\n",
    "\n",
    "agg = proj.generate_aggregated_lookup(accidents, cols)\n",
    "prem_weekend_day = agg[cols+ ['total_count']].groupby(cols).sum().reset_index()\n",
    "display(prem_weekend_day)\n",
    "proj.plot_column(prem_weekend_day[cols[0]], prem_weekend_day['total_count'],\n",
    "                 prem_weekend_day[cols[-1]], paletter=color_mapping,\n",
    "                 plot_title='Day of Week Accidents during Premier League On/OffSeason',\n",
    "                 savefig=True, fig_filename='pl_dayname_ssn.png')"
   ]
  },
  {
   "cell_type": "code",
   "execution_count": null,
   "id": "7c53aea2",
   "metadata": {
    "scrolled": true
   },
   "outputs": [],
   "source": [
    "cols = ['is_offseason']\n",
    "\n",
    "agg_df = proj.visualize_top_ten_districts(accidents, cols[0], 0, \n",
    "                                          plot_title='Top Ten Districts with Highest Accidents When PL Season is On',\n",
    "                                          savefig=True, suffix='pl_season')\n",
    "display(agg_df)\n",
    "\n"
   ]
  },
  {
   "cell_type": "code",
   "execution_count": null,
   "id": "d0e59ec6",
   "metadata": {
    "scrolled": true
   },
   "outputs": [],
   "source": [
    "cols = ['is_offseason']\n",
    "\n",
    "agg_df = proj.visualize_top_ten_districts(accidents, cols[0], 1,\n",
    "                                          plot_title='Top Ten Districts with Highest Accidents When PL Season is Off',\n",
    "                                          savefig=True, suffix='pl_offseason')\n",
    "display(agg_df)\n",
    "\n"
   ]
  },
  {
   "cell_type": "code",
   "execution_count": null,
   "id": "f85091a1",
   "metadata": {
    "scrolled": true
   },
   "outputs": [],
   "source": [
    "cols = ['part_of_day']\n",
    "\n",
    "agg_df = proj.visualize_severity(accidents, cols, cols[0], plot_title='Accident Casualty Outcomes per Part of Day',\n",
    "                            savefig=True, fig_filename='outcome_per_pod.png')\n",
    "display(agg_df)\n",
    "\n"
   ]
  },
  {
   "cell_type": "code",
   "execution_count": null,
   "id": "4bebd6fb",
   "metadata": {},
   "outputs": [],
   "source": [
    "proj.generate_aggregated_lookup(accidents, cols)"
   ]
  },
  {
   "cell_type": "code",
   "execution_count": null,
   "id": "3273fa3e",
   "metadata": {
    "scrolled": true
   },
   "outputs": [],
   "source": [
    "cols = ['is_weekend']\n",
    "\n",
    "agg_df = proj.visualize_severity(accidents, cols, cols[0], plot_title='Accident Casualty Outcomes per Weekday/Weekend',\n",
    "                            savefig=True, fig_filename='outcome_per_wkend.png')\n",
    "display(agg_df)\n",
    "\n"
   ]
  },
  {
   "cell_type": "code",
   "execution_count": null,
   "id": "c3b17bb0",
   "metadata": {
    "scrolled": true
   },
   "outputs": [],
   "source": [
    "cols = ['season']\n",
    "\n",
    "agg_df = proj.visualize_severity(accidents, cols, cols[0], plot_title='Accident Casualty Outcomes per Season',\n",
    "                            xlim=(0, 75000), savefig=True, fig_filename='outcome_per_ssn.png')\n",
    "display(agg_df)\n",
    "\n"
   ]
  },
  {
   "cell_type": "code",
   "execution_count": null,
   "id": "3220d48a",
   "metadata": {
    "scrolled": true
   },
   "outputs": [],
   "source": [
    "# outcome per pl on_offseason\n",
    "cols = ['is_offseason']\n",
    "\n",
    "agg_df = proj.visualize_severity(accidents, cols, use_as_x=cols[0], plot_title='Accident Casualty Outcomes per PL On/Off Season',\n",
    "                             savefig=True, fig_filename='outcome_pl_ssn.png')\n",
    "display(agg_df)\n",
    "\n"
   ]
  },
  {
   "cell_type": "markdown",
   "id": "8632a50f",
   "metadata": {},
   "source": [
    "___PREDICTIVE MODELLING IS CONTINUED IN THE SECOND NOTEBOOK___"
   ]
  }
 ],
 "metadata": {
  "kernelspec": {
   "display_name": "Python 3 (ipykernel)",
   "language": "python",
   "name": "python3"
  },
  "language_info": {
   "codemirror_mode": {
    "name": "ipython",
    "version": 3
   },
   "file_extension": ".py",
   "mimetype": "text/x-python",
   "name": "python",
   "nbconvert_exporter": "python",
   "pygments_lexer": "ipython3",
   "version": "3.9.7"
  }
 },
 "nbformat": 4,
 "nbformat_minor": 5
}
